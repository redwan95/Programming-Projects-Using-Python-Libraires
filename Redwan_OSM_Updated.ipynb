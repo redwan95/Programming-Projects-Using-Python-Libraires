{
 "cells": [
  {
   "cell_type": "markdown",
   "id": "44586a85",
   "metadata": {},
   "source": [
    "# 1. Showing Great Mosque of Macca"
   ]
  },
  {
   "cell_type": "markdown",
   "id": "c219b98a",
   "metadata": {},
   "source": [
    "Mecca is the birthplace of the Prophet Muhammad. The Kaaba is located in the center of the Great Mosque in Mecca and universally considered by Muslims to be the most sacred spot on Earth. Thus, Mecca is a deeply spiritual destination for Muslims all over the world and is considered the heart of Islam.The Ka‛bah is a cube-shaped building located at the centre of the Sacred Mosque in Makkah. It is the direction towards which Muslims turn in prayer as well as during some other acts of worship which Allah ﷻ commands them to do. It is also significant as muslims all over the world go to perform Hajj an islamic ritual. It takes a special place in my heart as I wish to perform Hajj in near future."
   ]
  },
  {
   "cell_type": "code",
   "execution_count": 1,
   "id": "a247921f",
   "metadata": {},
   "outputs": [
    {
     "data": {
      "text/html": [
       "\n",
       "<iframe width=\"800\" height=\"500\" frameborder=\"0\" scrolling=\"no\" \n",
       "marginheight=\"0\" marginwidth=\"0\" \n",
       "src=\"https://www.openstreetmap.org/export/embed.html?bbox=39.8%2C21.41%2C39.85%2C21.41&amp;layer=mapnik\" \n",
       "style=\"border: 2px solid black\"></iframe><br/>\n",
       "\n",
       "<small>\n",
       "<a href=\"https://www.openstreetmap.org/#map=16/42.0110/-85.4734\">\n",
       "View Larger Map</a></small>\n"
      ],
      "text/plain": [
       "<IPython.core.display.HTML object>"
      ]
     },
     "execution_count": 1,
     "metadata": {},
     "output_type": "execute_result"
    }
   ],
   "source": [
    "# Open Street map centered on Masjid al Haram\n",
    "\n",
    "import IPython.display as display\n",
    "masjid_al_haram = \"\"\"\n",
    "<iframe width=\"800\" height=\"500\" frameborder=\"0\" scrolling=\"no\" \n",
    "marginheight=\"0\" marginwidth=\"0\" \n",
    "src=\"https://www.openstreetmap.org/export/embed.html?bbox=39.8%2C21.41%2C39.85%2C21.41&amp;layer=mapnik\" \n",
    "style=\"border: 2px solid black\"></iframe><br/>\n",
    "\n",
    "<small>\n",
    "<a href=\"https://www.openstreetmap.org/#map=16/42.0110/-85.4734\">\n",
    "View Larger Map</a></small>\n",
    "\"\"\"\n",
    "display.HTML(masjid_al_haram)"
   ]
  },
  {
   "cell_type": "code",
   "execution_count": 2,
   "id": "7a82f526",
   "metadata": {},
   "outputs": [
    {
     "data": {
      "application/vnd.jupyter.widget-view+json": {
       "model_id": "d222d95451a24634bed324d5baab3007",
       "version_major": 2,
       "version_minor": 0
      },
      "text/plain": [
       "MapView(layout=Layout(height='400px', width='100%'))"
      ]
     },
     "metadata": {},
     "output_type": "display_data"
    },
    {
     "data": {
      "text/html": [
       "<div class=\"map-static-img-preview-a6512481-c5e6-43dc-a0e9-3481ddb3ff24\"><img src=\"\"></img></div>"
      ],
      "text/plain": [
       "<IPython.core.display.HTML object>"
      ]
     },
     "metadata": {},
     "output_type": "display_data"
    },
    {
     "data": {
      "text/html": [
       "<div class=\"map-html-embed-preview-a6512481-c5e6-43dc-a0e9-3481ddb3ff24\"></div>"
      ],
      "text/plain": [
       "<IPython.core.display.HTML object>"
      ]
     },
     "metadata": {},
     "output_type": "display_data"
    }
   ],
   "source": [
    "#importing data library\n",
    "import arcgis\n",
    "from arcgis.gis import GIS\n",
    "import pandas as pd\n",
    "import numpy as np\n",
    "\n",
    "gis = GIS()\n",
    "\n",
    "map2 = gis.map('masjid_al_haram')\n",
    "map2"
   ]
  },
  {
   "cell_type": "code",
   "execution_count": 3,
   "id": "3abd3915",
   "metadata": {},
   "outputs": [],
   "source": [
    "map2.mode = \"3D\""
   ]
  },
  {
   "cell_type": "markdown",
   "id": "640025a5",
   "metadata": {},
   "source": [
    "## 2. About the followiing code California Wildfire Mapping"
   ]
  },
  {
   "cell_type": "markdown",
   "id": "81576c04",
   "metadata": {},
   "source": [
    "This code is applied to generate an interactive map of wildfire perimeter data in California using Landsat Landcover Image as base map. The data contains the fire perimeters from the previous calendar year, and those dating back to 1878, for California. Perimeters are sourced from the Fire and Resource Assessment Program (FRAP) and are updated after the end of each calendar year. \n",
    "\n",
    "Moreover Urban Heat Island layer has been overlayed to identify high vulnerable areas in california.\n",
    "\n",
    "This interactive map will be helpful for Improving fire prevention,reduce and track hazards and risks in urban interface areas.\n"
   ]
  },
  {
   "cell_type": "code",
   "execution_count": 4,
   "id": "e4750809",
   "metadata": {},
   "outputs": [
    {
     "data": {
      "text/html": [
       "\n",
       "<iframe width=\"800\" height=\"500\" frameborder=\"0\" scrolling=\"no\" \n",
       "marginheight=\"0\" marginwidth=\"0\" \n",
       "src=\"https://www.openstreetmap.org/export/embed.html?bbox=-122.74%2C34.07%2C-117.89%2C37.41&amp;layer=mapnik\" \n",
       "style=\"border: 2px solid black\"></iframe><br/>\n",
       "\n",
       "<small>\n",
       "<a href=\"https://www.openstreetmap.org/#map=16/42.0110/-85.4734\">\n",
       "View Larger Map</a></small>\n"
      ],
      "text/plain": [
       "<IPython.core.display.HTML object>"
      ]
     },
     "execution_count": 4,
     "metadata": {},
     "output_type": "execute_result"
    }
   ],
   "source": [
    "# Create a map centered on California Coast\n",
    "\n",
    "import IPython.display as display\n",
    "california = \"\"\"\n",
    "<iframe width=\"800\" height=\"500\" frameborder=\"0\" scrolling=\"no\" \n",
    "marginheight=\"0\" marginwidth=\"0\" \n",
    "src=\"https://www.openstreetmap.org/export/embed.html?bbox=-122.74%2C34.07%2C-117.89%2C37.41&amp;layer=mapnik\" \n",
    "style=\"border: 2px solid black\"></iframe><br/>\n",
    "\n",
    "<small>\n",
    "<a href=\"https://www.openstreetmap.org/#map=16/42.0110/-85.4734\">\n",
    "View Larger Map</a></small>\n",
    "\"\"\"\n",
    "display.HTML(california)"
   ]
  },
  {
   "cell_type": "code",
   "execution_count": 5,
   "id": "066867c1",
   "metadata": {},
   "outputs": [
    {
     "data": {
      "text/plain": [
       "'2.0.1'"
      ]
     },
     "execution_count": 5,
     "metadata": {},
     "output_type": "execute_result"
    }
   ],
   "source": [
    "#importing data library\n",
    "import arcgis\n",
    "from arcgis.gis import GIS\n",
    "import pandas as pd\n",
    "import numpy as np\n",
    "\n",
    "arcgis.__version__"
   ]
  },
  {
   "cell_type": "code",
   "execution_count": 6,
   "id": "0fdd4bc6",
   "metadata": {},
   "outputs": [],
   "source": [
    "gis = GIS() # anonymous connection (no credits will be used)"
   ]
  },
  {
   "cell_type": "code",
   "execution_count": 7,
   "id": "0c106778",
   "metadata": {},
   "outputs": [],
   "source": [
    "# Extracting feature layer for wildfire incidents in california\n",
    "wildfire_layer = gis.content.search(\"Wildfire incidents in california\", \"Feature Layer\", outside_org=True)[0]"
   ]
  },
  {
   "cell_type": "code",
   "execution_count": 8,
   "id": "6a83eede",
   "metadata": {},
   "outputs": [
    {
     "data": {
      "text/html": [
       "<div class=\"item_container\" style=\"height: auto; overflow: hidden; border: 1px solid #cfcfcf; border-radius: 2px; background: #f6fafa; line-height: 1.21429em; padding: 10px;\">\n",
       "                    <div class=\"item_left\" style=\"width: 210px; float: left;\">\n",
       "                       <a href='https://www.arcgis.com/home/item.html?id=6fd0d8d6f47d414da7bcb1dcd0539999' target='_blank'>\n",
       "                        <img src='https://www.arcgis.com/sharing/rest//content/items/6fd0d8d6f47d414da7bcb1dcd0539999/info/thumbnail/thumbnail1654533265233.png' class=\"itemThumbnail\">\n",
       "                       </a>\n",
       "                    </div>\n",
       "\n",
       "                    <div class=\"item_right\"     style=\"float: none; width: auto; overflow: hidden;\">\n",
       "                        <a href='https://www.arcgis.com/home/item.html?id=6fd0d8d6f47d414da7bcb1dcd0539999' target='_blank'><b>California Fire Perimeters 1878 - 2021</b>\n",
       "                        </a>\n",
       "                        <br/>This layer contains the fire perimeters from the previous calendar year, and those dating back to 1878, for California. Perimeters are sourced from the Fire and Resource Assessment Program (FRAP) and are updated after the end of each calendar year.<img src='https://www.arcgis.com/home/js/jsapi/esri/css/images/item_type_icons/featureshosted16.png' style=\"vertical-align:middle;\">Feature Layer Collection by juliah_esri\n",
       "                        <br/>Last Modified: January 10, 2023\n",
       "                        <br/>5 comments, 9572693 views\n",
       "                    </div>\n",
       "                </div>\n",
       "                "
      ],
      "text/plain": [
       "<Item title:\"California Fire Perimeters 1878 - 2021\" type:Feature Layer Collection owner:juliah_esri>"
      ]
     },
     "execution_count": 8,
     "metadata": {},
     "output_type": "execute_result"
    }
   ],
   "source": [
    "wildfire_layer"
   ]
  },
  {
   "cell_type": "code",
   "execution_count": 9,
   "id": "b2ea4505",
   "metadata": {},
   "outputs": [
    {
     "data": {
      "application/vnd.jupyter.widget-view+json": {
       "model_id": "622225c800884229b560e6b967830cba",
       "version_major": 2,
       "version_minor": 0
      },
      "text/plain": [
       "MapView(layout=Layout(height='400px', width='100%'))"
      ]
     },
     "metadata": {},
     "output_type": "display_data"
    },
    {
     "data": {
      "text/html": [
       "<div class=\"map-static-img-preview-6312ca8a-1767-4f86-920e-53f940b22a42\"><img src=\"\"></img></div>"
      ],
      "text/plain": [
       "<IPython.core.display.HTML object>"
      ]
     },
     "metadata": {},
     "output_type": "display_data"
    },
    {
     "data": {
      "text/html": [
       "<div class=\"map-html-embed-preview-6312ca8a-1767-4f86-920e-53f940b22a42\"></div>"
      ],
      "text/plain": [
       "<IPython.core.display.HTML object>"
      ]
     },
     "metadata": {},
     "output_type": "display_data"
    }
   ],
   "source": [
    "#defining landsat image as base map\n",
    "\n",
    "map1 = gis.map('california')\n",
    "map1"
   ]
  },
  {
   "cell_type": "code",
   "execution_count": 10,
   "id": "8111697c",
   "metadata": {},
   "outputs": [],
   "source": [
    "#Extracting Landsat Image\n",
    "landsat_list = gis.content.search('\"Landsat\"', 'Imagery Layer')"
   ]
  },
  {
   "cell_type": "code",
   "execution_count": 11,
   "id": "474175b7",
   "metadata": {},
   "outputs": [
    {
     "data": {
      "text/plain": [
       "[<Item title:\"Forest carbon pools 2018\" type:Imagery Layer owner:USFS_FIA>,\n",
       " <Item title:\"Pansharpened Landsat\" type:Imagery Layer owner:esri>,\n",
       " <Item title:\"Panchromatic Landsat\" type:Imagery Layer owner:esri>,\n",
       " <Item title:\"Urban Heat Island Severity for U.S. cities - 2019\" type:Imagery Layer owner:TPL_GIS_Support>,\n",
       " <Item title:\"World Land Cover 30m BaseVue 2013\" type:Imagery Layer owner:esri>,\n",
       " <Item title:\"MODIS True Color - Terra Corrected Reflectance\" type:Imagery Layer owner:esri>,\n",
       " <Item title:\"Multispectral Landsat\" type:Imagery Layer owner:esri>,\n",
       " <Item title:\"Landsat 8-9 Pansharpened\" type:Imagery Layer owner:esri>,\n",
       " <Item title:\"Landsat 8-9 Views\" type:Imagery Layer owner:esri>,\n",
       " <Item title:\"Imagery-Landsat Shaded Basemap\" type:Imagery Layer owner:AAlvarez_amerigeoss>]"
      ]
     },
     "execution_count": 11,
     "metadata": {},
     "output_type": "execute_result"
    }
   ],
   "source": [
    "#list of data extracted from source\n",
    "landsat_list"
   ]
  },
  {
   "cell_type": "code",
   "execution_count": 12,
   "id": "a32b4b25",
   "metadata": {},
   "outputs": [],
   "source": [
    "#from the above list heatisland layer has been added\n",
    "\n",
    "heatisland = landsat_list[3]\n",
    "\n",
    "map1.add_layer(heatisland)"
   ]
  },
  {
   "cell_type": "code",
   "execution_count": 13,
   "id": "8dfc7921",
   "metadata": {},
   "outputs": [],
   "source": [
    "#adding wildfire layer to the map\n",
    "\n",
    "wildfire = wildfire_layer\n",
    "\n",
    "map1.add_layer(wildfire)"
   ]
  },
  {
   "cell_type": "code",
   "execution_count": 14,
   "id": "c931f7ba",
   "metadata": {},
   "outputs": [],
   "source": [
    "#basemap\n",
    "\n",
    "map1.basemap = 'hybrid'"
   ]
  },
  {
   "cell_type": "code",
   "execution_count": 15,
   "id": "84f0a351",
   "metadata": {},
   "outputs": [],
   "source": [
    "#Added Legend widget to the map\n",
    "\n",
    "map1.legend = True\n"
   ]
  },
  {
   "cell_type": "code",
   "execution_count": 16,
   "id": "31c338b4",
   "metadata": {},
   "outputs": [
    {
     "data": {
      "application/vnd.jupyter.widget-view+json": {
       "model_id": "622225c800884229b560e6b967830cba",
       "version_major": 2,
       "version_minor": 0
      },
      "text/plain": [
       "MapView(layout=Layout(height='400px', width='100%'), legend=True)"
      ]
     },
     "metadata": {},
     "output_type": "display_data"
    },
    {
     "data": {
      "text/html": [
       "<div class=\"map-static-img-preview-6312ca8a-1767-4f86-920e-53f940b22a42\"><img src=\"\"></img></div>"
      ],
      "text/plain": [
       "<IPython.core.display.HTML object>"
      ]
     },
     "metadata": {},
     "output_type": "display_data"
    },
    {
     "data": {
      "text/html": [
       "<div class=\"map-html-embed-preview-6312ca8a-1767-4f86-920e-53f940b22a42\"></div>"
      ],
      "text/plain": [
       "<IPython.core.display.HTML object>"
      ]
     },
     "metadata": {},
     "output_type": "display_data"
    }
   ],
   "source": [
    "#final output showing overlappig areas for UHI and Wildfire\n",
    "\n",
    "map1"
   ]
  },
  {
   "cell_type": "code",
   "execution_count": 17,
   "id": "48ffb319",
   "metadata": {},
   "outputs": [
    {
     "data": {
      "text/plain": [
       "{}"
      ]
     },
     "execution_count": 17,
     "metadata": {},
     "output_type": "execute_result"
    }
   ],
   "source": [
    "map1.center"
   ]
  },
  {
   "cell_type": "code",
   "execution_count": 19,
   "id": "a0b9bac7",
   "metadata": {},
   "outputs": [],
   "source": [
    "map1.mode = \"2D\""
   ]
  },
  {
   "cell_type": "code",
   "execution_count": null,
   "id": "9f3f1cd0",
   "metadata": {},
   "outputs": [],
   "source": []
  }
 ],
 "metadata": {
  "kernelspec": {
   "display_name": "Python 3",
   "language": "python",
   "name": "python3"
  },
  "language_info": {
   "codemirror_mode": {
    "name": "ipython",
    "version": 3
   },
   "file_extension": ".py",
   "mimetype": "text/x-python",
   "name": "python",
   "nbconvert_exporter": "python",
   "pygments_lexer": "ipython3",
   "version": "3.9.11"
  }
 },
 "nbformat": 4,
 "nbformat_minor": 5
}
