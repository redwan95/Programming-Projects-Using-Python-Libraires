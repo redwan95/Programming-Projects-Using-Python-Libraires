{
 "cells": [
  {
   "cell_type": "code",
   "execution_count": 3,
   "id": "13333779",
   "metadata": {},
   "outputs": [],
   "source": [
    "import pandas as pd"
   ]
  },
  {
   "cell_type": "code",
   "execution_count": 4,
   "id": "ce527409",
   "metadata": {},
   "outputs": [
    {
     "data": {
      "text/plain": [
       "['ClinicID',\n",
       " 'Address',\n",
       " 'Long',\n",
       " ' Lat',\n",
       " 'State Code',\n",
       " 'County Code',\n",
       " 'Tract Code']"
      ]
     },
     "execution_count": 4,
     "metadata": {},
     "output_type": "execute_result"
    }
   ],
   "source": [
    "#reading excel file in geopanda for Certified Hospital Location in California\n",
    "\n",
    "data_directory = r\"Downloads/\" \n",
    "clinic_data = pd.read_excel(data_directory +'ARTClinicData_GISClass_CAOnly.xlsx')\n",
    "\n",
    "# let's list variables in the file\n",
    "list(clinic_data)"
   ]
  },
  {
   "cell_type": "code",
   "execution_count": 5,
   "id": "e609b059",
   "metadata": {},
   "outputs": [
    {
     "data": {
      "text/html": [
       "<div>\n",
       "<style scoped>\n",
       "    .dataframe tbody tr th:only-of-type {\n",
       "        vertical-align: middle;\n",
       "    }\n",
       "\n",
       "    .dataframe tbody tr th {\n",
       "        vertical-align: top;\n",
       "    }\n",
       "\n",
       "    .dataframe thead th {\n",
       "        text-align: right;\n",
       "    }\n",
       "</style>\n",
       "<table border=\"1\" class=\"dataframe\">\n",
       "  <thead>\n",
       "    <tr style=\"text-align: right;\">\n",
       "      <th></th>\n",
       "      <th>ClinicID</th>\n",
       "      <th>Address</th>\n",
       "      <th>Long</th>\n",
       "      <th>Lat</th>\n",
       "      <th>State Code</th>\n",
       "      <th>County Code</th>\n",
       "      <th>Tract Code</th>\n",
       "    </tr>\n",
       "  </thead>\n",
       "  <tbody>\n",
       "    <tr>\n",
       "      <th>0</th>\n",
       "      <td>325</td>\n",
       "      <td>11370 ANDERSON ST, LOMA LINDA, CA, 92354</td>\n",
       "      <td>-117.261140</td>\n",
       "      <td>34.047215</td>\n",
       "      <td>6</td>\n",
       "      <td>71</td>\n",
       "      <td>7302</td>\n",
       "    </tr>\n",
       "    <tr>\n",
       "      <th>1</th>\n",
       "      <td>468</td>\n",
       "      <td>100 PARK PL, SAN RAMON, CA, 94583</td>\n",
       "      <td>-121.990890</td>\n",
       "      <td>37.772377</td>\n",
       "      <td>6</td>\n",
       "      <td>13</td>\n",
       "      <td>345202</td>\n",
       "    </tr>\n",
       "    <tr>\n",
       "      <th>2</th>\n",
       "      <td>318</td>\n",
       "      <td>101 ROWLAND WAY, NOVATO, CA, 94945</td>\n",
       "      <td>-122.558784</td>\n",
       "      <td>38.096916</td>\n",
       "      <td>6</td>\n",
       "      <td>41</td>\n",
       "      <td>101200</td>\n",
       "    </tr>\n",
       "    <tr>\n",
       "      <th>3</th>\n",
       "      <td>101</td>\n",
       "      <td>1060 MARSH RD, MENLO PARK, CA, 94025</td>\n",
       "      <td>-122.184875</td>\n",
       "      <td>37.479930</td>\n",
       "      <td>6</td>\n",
       "      <td>81</td>\n",
       "      <td>611700</td>\n",
       "    </tr>\n",
       "    <tr>\n",
       "      <th>4</th>\n",
       "      <td>136</td>\n",
       "      <td>10921 WILSHIRE BLVD, LOS ANGELES, CA, 90024</td>\n",
       "      <td>-118.444580</td>\n",
       "      <td>34.058598</td>\n",
       "      <td>6</td>\n",
       "      <td>37</td>\n",
       "      <td>265202</td>\n",
       "    </tr>\n",
       "    <tr>\n",
       "      <th>...</th>\n",
       "      <td>...</td>\n",
       "      <td>...</td>\n",
       "      <td>...</td>\n",
       "      <td>...</td>\n",
       "      <td>...</td>\n",
       "      <td>...</td>\n",
       "      <td>...</td>\n",
       "    </tr>\n",
       "    <tr>\n",
       "      <th>66</th>\n",
       "      <td>521</td>\n",
       "      <td>1 Daniel Burnham Ct, SAN FRANCISCO, CA, 94109</td>\n",
       "      <td>37.786755</td>\n",
       "      <td>-122.422491</td>\n",
       "      <td>6</td>\n",
       "      <td>6075</td>\n",
       "      <td>15100</td>\n",
       "    </tr>\n",
       "    <tr>\n",
       "      <th>67</th>\n",
       "      <td>524</td>\n",
       "      <td>1195 W. Fremont Ave, PALO ALTO, CA, 94087</td>\n",
       "      <td>37.353110</td>\n",
       "      <td>-122.062431</td>\n",
       "      <td>6</td>\n",
       "      <td>6085</td>\n",
       "      <td>510001</td>\n",
       "    </tr>\n",
       "    <tr>\n",
       "      <th>68</th>\n",
       "      <td>84</td>\n",
       "      <td>477 N. El Camino Real, ENCINITAS, CA, 92024</td>\n",
       "      <td>33.057114</td>\n",
       "      <td>-117.261477</td>\n",
       "      <td>6</td>\n",
       "      <td>6073</td>\n",
       "      <td>17108</td>\n",
       "    </tr>\n",
       "    <tr>\n",
       "      <th>69</th>\n",
       "      <td>198</td>\n",
       "      <td>203 N. Brea Blvd, BREA, CA, 92821</td>\n",
       "      <td>33.921864</td>\n",
       "      <td>-117.897953</td>\n",
       "      <td>6</td>\n",
       "      <td>6059</td>\n",
       "      <td>1503</td>\n",
       "    </tr>\n",
       "    <tr>\n",
       "      <th>70</th>\n",
       "      <td>463</td>\n",
       "      <td>510 N. Prospect Ave, REDONDO BEACH, CA, 90277</td>\n",
       "      <td>33.851956</td>\n",
       "      <td>-118.378629</td>\n",
       "      <td>6</td>\n",
       "      <td>6037</td>\n",
       "      <td>621201</td>\n",
       "    </tr>\n",
       "  </tbody>\n",
       "</table>\n",
       "<p>71 rows × 7 columns</p>\n",
       "</div>"
      ],
      "text/plain": [
       "    ClinicID                                        Address        Long  \\\n",
       "0        325       11370 ANDERSON ST, LOMA LINDA, CA, 92354 -117.261140   \n",
       "1        468              100 PARK PL, SAN RAMON, CA, 94583 -121.990890   \n",
       "2        318             101 ROWLAND WAY, NOVATO, CA, 94945 -122.558784   \n",
       "3        101           1060 MARSH RD, MENLO PARK, CA, 94025 -122.184875   \n",
       "4        136    10921 WILSHIRE BLVD, LOS ANGELES, CA, 90024 -118.444580   \n",
       "..       ...                                            ...         ...   \n",
       "66       521  1 Daniel Burnham Ct, SAN FRANCISCO, CA, 94109   37.786755   \n",
       "67       524      1195 W. Fremont Ave, PALO ALTO, CA, 94087   37.353110   \n",
       "68        84    477 N. El Camino Real, ENCINITAS, CA, 92024   33.057114   \n",
       "69       198              203 N. Brea Blvd, BREA, CA, 92821   33.921864   \n",
       "70       463  510 N. Prospect Ave, REDONDO BEACH, CA, 90277   33.851956   \n",
       "\n",
       "           Lat  State Code  County Code  Tract Code  \n",
       "0    34.047215           6           71        7302  \n",
       "1    37.772377           6           13      345202  \n",
       "2    38.096916           6           41      101200  \n",
       "3    37.479930           6           81      611700  \n",
       "4    34.058598           6           37      265202  \n",
       "..         ...         ...          ...         ...  \n",
       "66 -122.422491           6         6075       15100  \n",
       "67 -122.062431           6         6085      510001  \n",
       "68 -117.261477           6         6073       17108  \n",
       "69 -117.897953           6         6059        1503  \n",
       "70 -118.378629           6         6037      621201  \n",
       "\n",
       "[71 rows x 7 columns]"
      ]
     },
     "execution_count": 5,
     "metadata": {},
     "output_type": "execute_result"
    }
   ],
   "source": [
    "# exploring attribute table \n",
    "clinic_data.head(71)"
   ]
  },
  {
   "cell_type": "code",
   "execution_count": 36,
   "id": "62a4660d",
   "metadata": {},
   "outputs": [
    {
     "name": "stdout",
     "output_type": "stream",
     "text": [
      "ClinicID         int64\n",
      "Address         object\n",
      "Long           float64\n",
      " Lat           float64\n",
      "State Code       int64\n",
      "County Code      int64\n",
      "Tract Code       int64\n",
      "data_check      object\n",
      "dtype: object\n"
     ]
    }
   ],
   "source": [
    "#Check data types using \n",
    "print(clinic_data.dtypes)"
   ]
  },
  {
   "cell_type": "code",
   "execution_count": 18,
   "id": "b8e44cc8",
   "metadata": {},
   "outputs": [
    {
     "data": {
      "text/plain": [
       "ClinicID       71\n",
       "Address        71\n",
       "Long           71\n",
       " Lat           71\n",
       "State Code     71\n",
       "County Code    71\n",
       "Tract Code     71\n",
       "dtype: int64"
      ]
     },
     "execution_count": 18,
     "metadata": {},
     "output_type": "execute_result"
    }
   ],
   "source": [
    "#checking for missing values\n",
    "clinic_data.count()"
   ]
  },
  {
   "cell_type": "code",
   "execution_count": 34,
   "id": "83bb595d",
   "metadata": {},
   "outputs": [
    {
     "name": "stdout",
     "output_type": "stream",
     "text": [
      "ClinicID       0\n",
      "Address        0\n",
      "Long           0\n",
      " Lat           0\n",
      "State Code     0\n",
      "County Code    0\n",
      "Tract Code     0\n",
      "data_check     0\n",
      "dtype: int64\n"
     ]
    }
   ],
   "source": [
    "#checking for null values\n",
    "print(clinic_data.isnull().sum())"
   ]
  },
  {
   "cell_type": "code",
   "execution_count": 7,
   "id": "f5cdb539",
   "metadata": {},
   "outputs": [
    {
     "name": "stdout",
     "output_type": "stream",
     "text": [
      "<class 'pandas.core.frame.DataFrame'>\n",
      "RangeIndex: 71 entries, 0 to 70\n",
      "Data columns (total 7 columns):\n",
      " #   Column       Non-Null Count  Dtype  \n",
      "---  ------       --------------  -----  \n",
      " 0   ClinicID     71 non-null     int64  \n",
      " 1   Address      71 non-null     object \n",
      " 2   Long         71 non-null     float64\n",
      " 3    Lat         71 non-null     float64\n",
      " 4   State Code   71 non-null     int64  \n",
      " 5   County Code  71 non-null     int64  \n",
      " 6   Tract Code   71 non-null     int64  \n",
      "dtypes: float64(2), int64(4), object(1)\n",
      "memory usage: 4.0+ KB\n"
     ]
    }
   ],
   "source": [
    "#checking for null values\n",
    "clinic_data.info()"
   ]
  },
  {
   "cell_type": "code",
   "execution_count": 31,
   "id": "b1404a88",
   "metadata": {},
   "outputs": [
    {
     "name": "stdout",
     "output_type": "stream",
     "text": [
      "         ClinicID        Long         Lat  State Code  County Code  \\\n",
      "count   71.000000   71.000000   71.000000        71.0    71.000000   \n",
      "mean   336.985915  -89.305661    5.011593         6.0  1237.450704   \n",
      "std    183.521855   61.653891   61.687490         0.0  2406.216549   \n",
      "min      6.000000 -122.700080 -122.422491         6.0     1.000000   \n",
      "25%    165.500000 -121.472995   33.625321         6.0    37.000000   \n",
      "50%    332.000000 -118.396034   34.067833         6.0    59.000000   \n",
      "75%    488.500000 -117.513435   37.257265         6.0    85.000000   \n",
      "max    637.000000   37.786755   38.737900         6.0  6085.000000   \n",
      "\n",
      "          Tract Code  \n",
      "count      71.000000  \n",
      "mean   233296.408451  \n",
      "std    242939.081696  \n",
      "min       400.000000  \n",
      "25%     18910.500000  \n",
      "50%    139401.000000  \n",
      "75%    452762.500000  \n",
      "max    800324.000000  \n"
     ]
    }
   ],
   "source": [
    "#summary statistics for all the numeric data types\n",
    "print(clinic_data.describe())"
   ]
  },
  {
   "cell_type": "code",
   "execution_count": 45,
   "id": "8427217c",
   "metadata": {},
   "outputs": [
    {
     "data": {
      "text/plain": [
       "<AxesSubplot: >"
      ]
     },
     "execution_count": 45,
     "metadata": {},
     "output_type": "execute_result"
    },
    {
     "data": {
      "image/png": "[encoded data removed]",
      "text/plain": [
       "<Figure size 640x480 with 1 Axes>"
      ]
     },
     "metadata": {},
     "output_type": "display_data"
    }
   ],
   "source": [
    "clinic_data['Long'].plot()"
   ]
  },
  {
   "cell_type": "code",
   "execution_count": 47,
   "id": "9fc64d05",
   "metadata": {},
   "outputs": [
    {
     "data": {
      "text/plain": [
       "<AxesSubplot: >"
      ]
     },
     "execution_count": 47,
     "metadata": {},
     "output_type": "execute_result"
    },
    {
     "data": {
      "image/png": "[encoded data removed]",
      "text/plain": [
       "<Figure size 640x480 with 1 Axes>"
      ]
     },
     "metadata": {},
     "output_type": "display_data"
    }
   ],
   "source": [
    "clinic_data[' Lat'].plot()"
   ]
  },
  {
   "cell_type": "code",
   "execution_count": 27,
   "id": "38e62db3",
   "metadata": {},
   "outputs": [
    {
     "data": {
      "text/plain": [
       " Lat\n",
       "-122.422491    1\n",
       "-122.062431    1\n",
       "-118.767605    1\n",
       "-118.472299    1\n",
       "-118.463076    1\n",
       "              ..\n",
       " 38.096916     1\n",
       " 38.441120     1\n",
       " 38.597730     1\n",
       " 38.611820     1\n",
       " 38.737900     1\n",
       "Length: 69, dtype: int64"
      ]
     },
     "execution_count": 27,
     "metadata": {},
     "output_type": "execute_result"
    }
   ],
   "source": [
    "#Check for data consistency using the groupby() function\n",
    "clinic_data.groupby('Long').size()\n",
    "clinic_data.groupby(' Lat').size()"
   ]
  },
  {
   "cell_type": "code",
   "execution_count": 35,
   "id": "179e7dea",
   "metadata": {},
   "outputs": [
    {
     "name": "stdout",
     "output_type": "stream",
     "text": [
      "    ClinicID                                      Address       Long  \\\n",
      "5        399  10921 WILSHIRE BLVD, LOS ANGELES, CA, 90024 -118.44458   \n",
      "21       559       18370 BURBANK BLVD, TARZANA, CA, 91356 -118.53459   \n",
      "\n",
      "          Lat  State Code  County Code  Tract Code data_check  \n",
      "5   34.058598           6           37      265202      Error  \n",
      "21  34.172188           6           37      139401      Error  \n"
     ]
    }
   ],
   "source": [
    "#checking for duplicates\n",
    "duplicate_rows = clinic_data[clinic_data.duplicated()]\n",
    "duplicates = clinic_data[clinic_data.duplicated(['Long'])]\n",
    "print(duplicates)"
   ]
  },
  {
   "cell_type": "code",
   "execution_count": 41,
   "id": "1cdacfa1",
   "metadata": {},
   "outputs": [
    {
     "name": "stdout",
     "output_type": "stream",
     "text": [
      "    ClinicID                                      Address       Long  \\\n",
      "5        399  10921 WILSHIRE BLVD, LOS ANGELES, CA, 90024 -118.44458   \n",
      "21       559       18370 BURBANK BLVD, TARZANA, CA, 91356 -118.53459   \n",
      "\n",
      "          Lat  State Code  County Code  Tract Code  \n",
      "5   34.058598           6           37      265202  \n",
      "21  34.172188           6           37      139401  \n"
     ]
    }
   ],
   "source": [
    "duplicates = clinic_data[clinic_data.duplicated([' Lat'])]\n",
    "print(duplicates)"
   ]
  },
  {
   "cell_type": "code",
   "execution_count": 22,
   "id": "728e1159",
   "metadata": {},
   "outputs": [
    {
     "data": {
      "image/png": "[encoded data removed]",
      "text/plain": [
       "<Figure size 432x288 with 1 Axes>"
      ]
     },
     "metadata": {
      "needs_background": "light"
     },
     "output_type": "display_data"
    },
    {
     "data": {
      "image/png": "[encoded data removed]",
      "text/plain": [
       "<Figure size 432x288 with 1 Axes>"
      ]
     },
     "metadata": {
      "needs_background": "light"
     },
     "output_type": "display_data"
    }
   ],
   "source": [
    "#Checking for outliers within the data\n",
    "\n",
    "import matplotlib.pyplot as plt\n",
    "\n",
    "# Box plot of a column\n",
    "plt.boxplot(clinic_data['Long'])\n",
    "plt.show()\n",
    "\n",
    "# Scatter plot of two columns\n",
    "plt.scatter(clinic_data['Long'], clinic_data[' Lat'])\n",
    "plt.show()"
   ]
  },
  {
   "cell_type": "markdown",
   "id": "6c3a3063",
   "metadata": {},
   "source": [
    "**From the scatterplot and boxplot above, outliers shows that there are data inconsistency within the dataset**"
   ]
  },
  {
   "cell_type": "code",
   "execution_count": 23,
   "id": "59201f80",
   "metadata": {},
   "outputs": [
    {
     "data": {
      "image/png": "[encoded data removed]",
      "text/plain": [
       "<Figure size 432x288 with 1 Axes>"
      ]
     },
     "metadata": {
      "needs_background": "light"
     },
     "output_type": "display_data"
    },
    {
     "data": {
      "image/png": "[encoded data removed]",
      "text/plain": [
       "<Figure size 432x288 with 1 Axes>"
      ]
     },
     "metadata": {
      "needs_background": "light"
     },
     "output_type": "display_data"
    }
   ],
   "source": [
    "#Check for data distribution using visualization techniques\n",
    "\n",
    "# Histogram of a column\n",
    "plt.hist(clinic_data['Long'], bins=10)\n",
    "plt.show()\n",
    "\n",
    "# Density plot of a column\n",
    "clinic_data[' Lat'].plot.kde()\n",
    "plt.show()"
   ]
  },
  {
   "cell_type": "markdown",
   "id": "e393c959",
   "metadata": {},
   "source": [
    "**Checking for data consistency using the apply() function\n",
    "This will apply a custom function to each row of the DataFrame and give us a new column that contains the result of the function for each row. \n",
    "this can be used to check if the data is consistent within each ro**\n",
    "    "
   ]
  },
  {
   "cell_type": "code",
   "execution_count": 24,
   "id": "00a4dc3b",
   "metadata": {},
   "outputs": [
    {
     "name": "stdout",
     "output_type": "stream",
     "text": [
      "    ClinicID                                        Address        Long  \\\n",
      "0        325       11370 ANDERSON ST, LOMA LINDA, CA, 92354 -117.261140   \n",
      "1        468              100 PARK PL, SAN RAMON, CA, 94583 -121.990890   \n",
      "2        318             101 ROWLAND WAY, NOVATO, CA, 94945 -122.558784   \n",
      "3        101           1060 MARSH RD, MENLO PARK, CA, 94025 -122.184875   \n",
      "4        136    10921 WILSHIRE BLVD, LOS ANGELES, CA, 90024 -118.444580   \n",
      "..       ...                                            ...         ...   \n",
      "66       521  1 Daniel Burnham Ct, SAN FRANCISCO, CA, 94109   37.786755   \n",
      "67       524      1195 W. Fremont Ave, PALO ALTO, CA, 94087   37.353110   \n",
      "68        84    477 N. El Camino Real, ENCINITAS, CA, 92024   33.057114   \n",
      "69       198              203 N. Brea Blvd, BREA, CA, 92821   33.921864   \n",
      "70       463  510 N. Prospect Ave, REDONDO BEACH, CA, 90277   33.851956   \n",
      "\n",
      "           Lat  State Code  County Code  Tract Code data_check  \n",
      "0    34.047215           6           71        7302      Error  \n",
      "1    37.772377           6           13      345202      Error  \n",
      "2    38.096916           6           41      101200      Error  \n",
      "3    37.479930           6           81      611700      Error  \n",
      "4    34.058598           6           37      265202      Error  \n",
      "..         ...         ...          ...         ...        ...  \n",
      "66 -122.422491           6         6075       15100         OK  \n",
      "67 -122.062431           6         6085      510001         OK  \n",
      "68 -117.261477           6         6073       17108         OK  \n",
      "69 -117.897953           6         6059        1503         OK  \n",
      "70 -118.378629           6         6037      621201         OK  \n",
      "\n",
      "[71 rows x 8 columns]\n"
     ]
    }
   ],
   "source": [
    "def check_data(row):\n",
    "    if row[' Lat'] > row['Long']:\n",
    "        return 'Error'\n",
    "    else:\n",
    "        return 'OK'\n",
    "\n",
    "clinic_data['data_check'] = clinic_data.apply(check_data, axis=1)\n",
    "print(clinic_data)"
   ]
  },
  {
   "cell_type": "markdown",
   "id": "2689f467",
   "metadata": {},
   "source": [
    "# From the above statistical and observational exploration with the dataset we can conclude that there are inconsistency within the dataset that needs to be addressed. Otherwise the analysis could be faulty."
   ]
  },
  {
   "cell_type": "code",
   "execution_count": null,
   "id": "073c0012",
   "metadata": {},
   "outputs": [],
   "source": []
  }
 ],
 "metadata": {
  "kernelspec": {
   "display_name": "Python 3",
   "language": "python",
   "name": "python3"
  },
  "language_info": {
   "codemirror_mode": {
    "name": "ipython",
    "version": 3
   },
   "file_extension": ".py",
   "mimetype": "text/x-python",
   "name": "python",
   "nbconvert_exporter": "python",
   "pygments_lexer": "ipython3",
   "version": "3.9.11"
  }
 },
 "nbformat": 4,
 "nbformat_minor": 5
}
