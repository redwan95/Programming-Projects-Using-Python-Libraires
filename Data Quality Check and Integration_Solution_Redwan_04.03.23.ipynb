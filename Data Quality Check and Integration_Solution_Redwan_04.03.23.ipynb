{
 "cells": [
  {
   "cell_type": "markdown",
   "id": "1d191446",
   "metadata": {},
   "source": [
    "# Introduction "
   ]
  },
  {
   "cell_type": "markdown",
   "id": "0e70953c",
   "metadata": {},
   "source": [
    "**Here we as a group have identified several issues. Here our group (Redwan, Farhana and Nico) only worked on flipping XY location in the excel file correctly. There are three parts in this file which are descriped for step by step process for better understanding. At last tried drive time and closest facility analysis**\n",
    "\n",
    "1. Data quality check (pulls in raw CA clinic data)\n",
    "2. Data quality correction (XY point) (scrubbing this data to an acceptable use level)\n",
    "3. Geocoding the address**"
   ]
  },
  {
   "cell_type": "markdown",
   "id": "9e8ecce7",
   "metadata": {},
   "source": [
    "# 1. Data Quality Check"
   ]
  },
  {
   "cell_type": "markdown",
   "id": "00b2b4fa",
   "metadata": {},
   "source": [
    "**Reading excel file in geopanda for Certified Hospital Location in California**"
   ]
  },
  {
   "cell_type": "code",
   "execution_count": 4,
   "id": "1a1b6570",
   "metadata": {},
   "outputs": [
    {
     "data": {
      "text/plain": [
       "['ClinicID',\n",
       " 'Address',\n",
       " 'Long',\n",
       " ' Lat',\n",
       " 'State Code',\n",
       " 'County Code',\n",
       " 'Tract Code']"
      ]
     },
     "execution_count": 4,
     "metadata": {},
     "output_type": "execute_result"
    }
   ],
   "source": [
    "import pandas as pd\n",
    "data_directory = r\"Downloads/\" \n",
    "clinic_data = pd.read_excel(data_directory +'ARTClinicData_GISClass_CAOnly.xlsx')\n",
    "\n",
    "# listing variables in the file\n",
    "list(clinic_data)"
   ]
  },
  {
   "cell_type": "code",
   "execution_count": 5,
   "id": "69349c9f",
   "metadata": {},
   "outputs": [
    {
     "data": {
      "text/html": [
       "<div>\n",
       "<style scoped>\n",
       "    .dataframe tbody tr th:only-of-type {\n",
       "        vertical-align: middle;\n",
       "    }\n",
       "\n",
       "    .dataframe tbody tr th {\n",
       "        vertical-align: top;\n",
       "    }\n",
       "\n",
       "    .dataframe thead th {\n",
       "        text-align: right;\n",
       "    }\n",
       "</style>\n",
       "<table border=\"1\" class=\"dataframe\">\n",
       "  <thead>\n",
       "    <tr style=\"text-align: right;\">\n",
       "      <th></th>\n",
       "      <th>ClinicID</th>\n",
       "      <th>Address</th>\n",
       "      <th>Long</th>\n",
       "      <th>Lat</th>\n",
       "      <th>State Code</th>\n",
       "      <th>County Code</th>\n",
       "      <th>Tract Code</th>\n",
       "    </tr>\n",
       "  </thead>\n",
       "  <tbody>\n",
       "    <tr>\n",
       "      <th>0</th>\n",
       "      <td>325</td>\n",
       "      <td>11370 ANDERSON ST, LOMA LINDA, CA, 92354</td>\n",
       "      <td>-117.261140</td>\n",
       "      <td>34.047215</td>\n",
       "      <td>6</td>\n",
       "      <td>71</td>\n",
       "      <td>7302</td>\n",
       "    </tr>\n",
       "    <tr>\n",
       "      <th>1</th>\n",
       "      <td>468</td>\n",
       "      <td>100 PARK PL, SAN RAMON, CA, 94583</td>\n",
       "      <td>-121.990890</td>\n",
       "      <td>37.772377</td>\n",
       "      <td>6</td>\n",
       "      <td>13</td>\n",
       "      <td>345202</td>\n",
       "    </tr>\n",
       "    <tr>\n",
       "      <th>2</th>\n",
       "      <td>318</td>\n",
       "      <td>101 ROWLAND WAY, NOVATO, CA, 94945</td>\n",
       "      <td>-122.558784</td>\n",
       "      <td>38.096916</td>\n",
       "      <td>6</td>\n",
       "      <td>41</td>\n",
       "      <td>101200</td>\n",
       "    </tr>\n",
       "    <tr>\n",
       "      <th>3</th>\n",
       "      <td>101</td>\n",
       "      <td>1060 MARSH RD, MENLO PARK, CA, 94025</td>\n",
       "      <td>-122.184875</td>\n",
       "      <td>37.479930</td>\n",
       "      <td>6</td>\n",
       "      <td>81</td>\n",
       "      <td>611700</td>\n",
       "    </tr>\n",
       "    <tr>\n",
       "      <th>4</th>\n",
       "      <td>136</td>\n",
       "      <td>10921 WILSHIRE BLVD, LOS ANGELES, CA, 90024</td>\n",
       "      <td>-118.444580</td>\n",
       "      <td>34.058598</td>\n",
       "      <td>6</td>\n",
       "      <td>37</td>\n",
       "      <td>265202</td>\n",
       "    </tr>\n",
       "    <tr>\n",
       "      <th>...</th>\n",
       "      <td>...</td>\n",
       "      <td>...</td>\n",
       "      <td>...</td>\n",
       "      <td>...</td>\n",
       "      <td>...</td>\n",
       "      <td>...</td>\n",
       "      <td>...</td>\n",
       "    </tr>\n",
       "    <tr>\n",
       "      <th>66</th>\n",
       "      <td>521</td>\n",
       "      <td>1 Daniel Burnham Ct, SAN FRANCISCO, CA, 94109</td>\n",
       "      <td>37.786755</td>\n",
       "      <td>-122.422491</td>\n",
       "      <td>6</td>\n",
       "      <td>6075</td>\n",
       "      <td>15100</td>\n",
       "    </tr>\n",
       "    <tr>\n",
       "      <th>67</th>\n",
       "      <td>524</td>\n",
       "      <td>1195 W. Fremont Ave, PALO ALTO, CA, 94087</td>\n",
       "      <td>37.353110</td>\n",
       "      <td>-122.062431</td>\n",
       "      <td>6</td>\n",
       "      <td>6085</td>\n",
       "      <td>510001</td>\n",
       "    </tr>\n",
       "    <tr>\n",
       "      <th>68</th>\n",
       "      <td>84</td>\n",
       "      <td>477 N. El Camino Real, ENCINITAS, CA, 92024</td>\n",
       "      <td>33.057114</td>\n",
       "      <td>-117.261477</td>\n",
       "      <td>6</td>\n",
       "      <td>6073</td>\n",
       "      <td>17108</td>\n",
       "    </tr>\n",
       "    <tr>\n",
       "      <th>69</th>\n",
       "      <td>198</td>\n",
       "      <td>203 N. Brea Blvd, BREA, CA, 92821</td>\n",
       "      <td>33.921864</td>\n",
       "      <td>-117.897953</td>\n",
       "      <td>6</td>\n",
       "      <td>6059</td>\n",
       "      <td>1503</td>\n",
       "    </tr>\n",
       "    <tr>\n",
       "      <th>70</th>\n",
       "      <td>463</td>\n",
       "      <td>510 N. Prospect Ave, REDONDO BEACH, CA, 90277</td>\n",
       "      <td>33.851956</td>\n",
       "      <td>-118.378629</td>\n",
       "      <td>6</td>\n",
       "      <td>6037</td>\n",
       "      <td>621201</td>\n",
       "    </tr>\n",
       "  </tbody>\n",
       "</table>\n",
       "<p>71 rows × 7 columns</p>\n",
       "</div>"
      ],
      "text/plain": [
       "    ClinicID                                        Address        Long  \\\n",
       "0        325       11370 ANDERSON ST, LOMA LINDA, CA, 92354 -117.261140   \n",
       "1        468              100 PARK PL, SAN RAMON, CA, 94583 -121.990890   \n",
       "2        318             101 ROWLAND WAY, NOVATO, CA, 94945 -122.558784   \n",
       "3        101           1060 MARSH RD, MENLO PARK, CA, 94025 -122.184875   \n",
       "4        136    10921 WILSHIRE BLVD, LOS ANGELES, CA, 90024 -118.444580   \n",
       "..       ...                                            ...         ...   \n",
       "66       521  1 Daniel Burnham Ct, SAN FRANCISCO, CA, 94109   37.786755   \n",
       "67       524      1195 W. Fremont Ave, PALO ALTO, CA, 94087   37.353110   \n",
       "68        84    477 N. El Camino Real, ENCINITAS, CA, 92024   33.057114   \n",
       "69       198              203 N. Brea Blvd, BREA, CA, 92821   33.921864   \n",
       "70       463  510 N. Prospect Ave, REDONDO BEACH, CA, 90277   33.851956   \n",
       "\n",
       "           Lat  State Code  County Code  Tract Code  \n",
       "0    34.047215           6           71        7302  \n",
       "1    37.772377           6           13      345202  \n",
       "2    38.096916           6           41      101200  \n",
       "3    37.479930           6           81      611700  \n",
       "4    34.058598           6           37      265202  \n",
       "..         ...         ...          ...         ...  \n",
       "66 -122.422491           6         6075       15100  \n",
       "67 -122.062431           6         6085      510001  \n",
       "68 -117.261477           6         6073       17108  \n",
       "69 -117.897953           6         6059        1503  \n",
       "70 -118.378629           6         6037      621201  \n",
       "\n",
       "[71 rows x 7 columns]"
      ]
     },
     "execution_count": 5,
     "metadata": {},
     "output_type": "execute_result"
    }
   ],
   "source": [
    "# exploring attribute table \n",
    "clinic_data.head(71)"
   ]
  },
  {
   "cell_type": "code",
   "execution_count": 6,
   "id": "0cdfc183",
   "metadata": {},
   "outputs": [
    {
     "name": "stdout",
     "output_type": "stream",
     "text": [
      "ClinicID         int64\n",
      "Address         object\n",
      "Long           float64\n",
      " Lat           float64\n",
      "State Code       int64\n",
      "County Code      int64\n",
      "Tract Code       int64\n",
      "dtype: object\n"
     ]
    }
   ],
   "source": [
    "#Check data types using \n",
    "print(clinic_data.dtypes)"
   ]
  },
  {
   "cell_type": "code",
   "execution_count": 7,
   "id": "c6a24dc6",
   "metadata": {},
   "outputs": [
    {
     "data": {
      "text/plain": [
       "ClinicID       71\n",
       "Address        71\n",
       "Long           71\n",
       " Lat           71\n",
       "State Code     71\n",
       "County Code    71\n",
       "Tract Code     71\n",
       "dtype: int64"
      ]
     },
     "execution_count": 7,
     "metadata": {},
     "output_type": "execute_result"
    }
   ],
   "source": [
    "#checking for missing values\n",
    "clinic_data.count()"
   ]
  },
  {
   "cell_type": "code",
   "execution_count": 8,
   "id": "f2c2fa23",
   "metadata": {},
   "outputs": [
    {
     "name": "stdout",
     "output_type": "stream",
     "text": [
      "ClinicID       0\n",
      "Address        0\n",
      "Long           0\n",
      " Lat           0\n",
      "State Code     0\n",
      "County Code    0\n",
      "Tract Code     0\n",
      "dtype: int64\n"
     ]
    }
   ],
   "source": [
    "#checking for null values\n",
    "print(clinic_data.isnull().sum())"
   ]
  },
  {
   "cell_type": "code",
   "execution_count": 9,
   "id": "84f8fee2",
   "metadata": {},
   "outputs": [
    {
     "name": "stdout",
     "output_type": "stream",
     "text": [
      "<class 'pandas.core.frame.DataFrame'>\n",
      "RangeIndex: 71 entries, 0 to 70\n",
      "Data columns (total 7 columns):\n",
      " #   Column       Non-Null Count  Dtype  \n",
      "---  ------       --------------  -----  \n",
      " 0   ClinicID     71 non-null     int64  \n",
      " 1   Address      71 non-null     object \n",
      " 2   Long         71 non-null     float64\n",
      " 3    Lat         71 non-null     float64\n",
      " 4   State Code   71 non-null     int64  \n",
      " 5   County Code  71 non-null     int64  \n",
      " 6   Tract Code   71 non-null     int64  \n",
      "dtypes: float64(2), int64(4), object(1)\n",
      "memory usage: 4.0+ KB\n"
     ]
    }
   ],
   "source": [
    "#checking for null values\n",
    "clinic_data.info()"
   ]
  },
  {
   "cell_type": "code",
   "execution_count": 10,
   "id": "c5500e4b",
   "metadata": {},
   "outputs": [
    {
     "name": "stdout",
     "output_type": "stream",
     "text": [
      "         ClinicID        Long         Lat  State Code  County Code  \\\n",
      "count   71.000000   71.000000   71.000000        71.0    71.000000   \n",
      "mean   336.985915  -89.305661    5.011593         6.0  1237.450704   \n",
      "std    183.521855   61.653891   61.687490         0.0  2406.216549   \n",
      "min      6.000000 -122.700080 -122.422491         6.0     1.000000   \n",
      "25%    165.500000 -121.472995   33.625321         6.0    37.000000   \n",
      "50%    332.000000 -118.396034   34.067833         6.0    59.000000   \n",
      "75%    488.500000 -117.513435   37.257265         6.0    85.000000   \n",
      "max    637.000000   37.786755   38.737900         6.0  6085.000000   \n",
      "\n",
      "          Tract Code  \n",
      "count      71.000000  \n",
      "mean   233296.408451  \n",
      "std    242939.081696  \n",
      "min       400.000000  \n",
      "25%     18910.500000  \n",
      "50%    139401.000000  \n",
      "75%    452762.500000  \n",
      "max    800324.000000  \n"
     ]
    }
   ],
   "source": [
    "#summary statistics for all the numeric data types\n",
    "print(clinic_data.describe())"
   ]
  },
  {
   "cell_type": "code",
   "execution_count": 11,
   "id": "110768f1",
   "metadata": {},
   "outputs": [
    {
     "data": {
      "text/plain": [
       "<AxesSubplot:>"
      ]
     },
     "execution_count": 11,
     "metadata": {},
     "output_type": "execute_result"
    },
    {
     "data": {
      "image/png": "[encoded data removed]",
      "text/plain": [
       "<Figure size 432x288 with 1 Axes>"
      ]
     },
     "metadata": {
      "needs_background": "light"
     },
     "output_type": "display_data"
    }
   ],
   "source": [
    "#plotting XY values for dicripency check\n",
    "clinic_data['Long'].plot()"
   ]
  },
  {
   "cell_type": "code",
   "execution_count": 12,
   "id": "62247e8c",
   "metadata": {},
   "outputs": [
    {
     "data": {
      "text/plain": [
       "<AxesSubplot:>"
      ]
     },
     "execution_count": 12,
     "metadata": {},
     "output_type": "execute_result"
    },
    {
     "data": {
      "image/png": "[encoded data removed]",
      "text/plain": [
       "<Figure size 432x288 with 1 Axes>"
      ]
     },
     "metadata": {
      "needs_background": "light"
     },
     "output_type": "display_data"
    }
   ],
   "source": [
    "#plotting XY values for dicripency check\n",
    "clinic_data[' Lat'].plot()"
   ]
  },
  {
   "cell_type": "markdown",
   "id": "7fa064bb",
   "metadata": {},
   "source": [
    "**From the above graph we can see inconsistancy in the Lat, Long values** "
   ]
  },
  {
   "cell_type": "code",
   "execution_count": 13,
   "id": "d0ac1bff",
   "metadata": {},
   "outputs": [
    {
     "data": {
      "text/plain": [
       " Lat\n",
       "-122.422491    1\n",
       "-122.062431    1\n",
       "-118.767605    1\n",
       "-118.472299    1\n",
       "-118.463076    1\n",
       "              ..\n",
       " 38.096916     1\n",
       " 38.441120     1\n",
       " 38.597730     1\n",
       " 38.611820     1\n",
       " 38.737900     1\n",
       "Length: 69, dtype: int64"
      ]
     },
     "execution_count": 13,
     "metadata": {},
     "output_type": "execute_result"
    }
   ],
   "source": [
    "#Check for data consistency using the groupby() function\n",
    "clinic_data.groupby('Long').size()\n",
    "clinic_data.groupby(' Lat').size()"
   ]
  },
  {
   "cell_type": "code",
   "execution_count": 14,
   "id": "b8148a32",
   "metadata": {},
   "outputs": [
    {
     "name": "stdout",
     "output_type": "stream",
     "text": [
      "    ClinicID                                      Address       Long  \\\n",
      "5        399  10921 WILSHIRE BLVD, LOS ANGELES, CA, 90024 -118.44458   \n",
      "21       559       18370 BURBANK BLVD, TARZANA, CA, 91356 -118.53459   \n",
      "\n",
      "          Lat  State Code  County Code  Tract Code  \n",
      "5   34.058598           6           37      265202  \n",
      "21  34.172188           6           37      139401  \n"
     ]
    }
   ],
   "source": [
    "#checking for duplicates\n",
    "duplicate_rows = clinic_data[clinic_data.duplicated()]\n",
    "duplicates = clinic_data[clinic_data.duplicated(['Long'])]\n",
    "print(duplicates)"
   ]
  },
  {
   "cell_type": "code",
   "execution_count": 15,
   "id": "ceb1160c",
   "metadata": {},
   "outputs": [
    {
     "name": "stdout",
     "output_type": "stream",
     "text": [
      "    ClinicID                                      Address       Long  \\\n",
      "5        399  10921 WILSHIRE BLVD, LOS ANGELES, CA, 90024 -118.44458   \n",
      "21       559       18370 BURBANK BLVD, TARZANA, CA, 91356 -118.53459   \n",
      "\n",
      "          Lat  State Code  County Code  Tract Code  \n",
      "5   34.058598           6           37      265202  \n",
      "21  34.172188           6           37      139401  \n"
     ]
    }
   ],
   "source": [
    "duplicates = clinic_data[clinic_data.duplicated([' Lat'])]\n",
    "print(duplicates)"
   ]
  },
  {
   "cell_type": "code",
   "execution_count": 16,
   "id": "a9240ead",
   "metadata": {},
   "outputs": [
    {
     "data": {
      "image/png": "[encoded data removed]",
      "text/plain": [
       "<Figure size 432x288 with 1 Axes>"
      ]
     },
     "metadata": {
      "needs_background": "light"
     },
     "output_type": "display_data"
    },
    {
     "data": {
      "image/png": "[encoded data removed]",
      "text/plain": [
       "<Figure size 432x288 with 1 Axes>"
      ]
     },
     "metadata": {
      "needs_background": "light"
     },
     "output_type": "display_data"
    }
   ],
   "source": [
    "#Checking for outliers within the data\n",
    "\n",
    "import matplotlib.pyplot as plt\n",
    "\n",
    "# Box plot of a column\n",
    "plt.boxplot(clinic_data['Long'])\n",
    "plt.show()\n",
    "\n",
    "# Scatter plot of two columns\n",
    "plt.scatter(clinic_data['Long'], clinic_data[' Lat'])\n",
    "plt.show()"
   ]
  },
  {
   "cell_type": "markdown",
   "id": "091b4f6d",
   "metadata": {},
   "source": [
    "**From the scatterplot and boxplot above, outliers shows that there are data inconsistency within the dataset**"
   ]
  },
  {
   "cell_type": "code",
   "execution_count": 17,
   "id": "e926d810",
   "metadata": {},
   "outputs": [
    {
     "data": {
      "image/png": "[encoded data removed]",
      "text/plain": [
       "<Figure size 432x288 with 1 Axes>"
      ]
     },
     "metadata": {
      "needs_background": "light"
     },
     "output_type": "display_data"
    },
    {
     "data": {
      "image/png": "[encoded data removed]",
      "text/plain": [
       "<Figure size 432x288 with 1 Axes>"
      ]
     },
     "metadata": {
      "needs_background": "light"
     },
     "output_type": "display_data"
    }
   ],
   "source": [
    "#Check for data distribution using visualization techniques\n",
    "\n",
    "# Histogram of a column\n",
    "plt.hist(clinic_data['Long'], bins=10)\n",
    "plt.show()\n",
    "\n",
    "# Density plot of a column\n",
    "clinic_data[' Lat'].plot.kde()\n",
    "plt.show()"
   ]
  },
  {
   "cell_type": "markdown",
   "id": "c74bfb7e",
   "metadata": {},
   "source": [
    "**Checking for data consistency using the apply() function\n",
    "This will apply a custom function to each row of the DataFrame and give us a new column that contains the result of the function for each row. \n",
    "this can be used to check if the data is consistent within each ro**\n",
    "    "
   ]
  },
  {
   "cell_type": "code",
   "execution_count": 18,
   "id": "8c192026",
   "metadata": {},
   "outputs": [
    {
     "name": "stdout",
     "output_type": "stream",
     "text": [
      "    ClinicID                                        Address        Long  \\\n",
      "0        325       11370 ANDERSON ST, LOMA LINDA, CA, 92354 -117.261140   \n",
      "1        468              100 PARK PL, SAN RAMON, CA, 94583 -121.990890   \n",
      "2        318             101 ROWLAND WAY, NOVATO, CA, 94945 -122.558784   \n",
      "3        101           1060 MARSH RD, MENLO PARK, CA, 94025 -122.184875   \n",
      "4        136    10921 WILSHIRE BLVD, LOS ANGELES, CA, 90024 -118.444580   \n",
      "..       ...                                            ...         ...   \n",
      "66       521  1 Daniel Burnham Ct, SAN FRANCISCO, CA, 94109   37.786755   \n",
      "67       524      1195 W. Fremont Ave, PALO ALTO, CA, 94087   37.353110   \n",
      "68        84    477 N. El Camino Real, ENCINITAS, CA, 92024   33.057114   \n",
      "69       198              203 N. Brea Blvd, BREA, CA, 92821   33.921864   \n",
      "70       463  510 N. Prospect Ave, REDONDO BEACH, CA, 90277   33.851956   \n",
      "\n",
      "           Lat  State Code  County Code  Tract Code data_check  \n",
      "0    34.047215           6           71        7302      Error  \n",
      "1    37.772377           6           13      345202      Error  \n",
      "2    38.096916           6           41      101200      Error  \n",
      "3    37.479930           6           81      611700      Error  \n",
      "4    34.058598           6           37      265202      Error  \n",
      "..         ...         ...          ...         ...        ...  \n",
      "66 -122.422491           6         6075       15100         OK  \n",
      "67 -122.062431           6         6085      510001         OK  \n",
      "68 -117.261477           6         6073       17108         OK  \n",
      "69 -117.897953           6         6059        1503         OK  \n",
      "70 -118.378629           6         6037      621201         OK  \n",
      "\n",
      "[71 rows x 8 columns]\n"
     ]
    }
   ],
   "source": [
    "def check_data(row):\n",
    "    if row[' Lat'] > row['Long']:\n",
    "        return 'Error'\n",
    "    else:\n",
    "        return 'OK'\n",
    "\n",
    "clinic_data['data_check'] = clinic_data.apply(check_data, axis=1)\n",
    "print(clinic_data)"
   ]
  },
  {
   "cell_type": "markdown",
   "id": "0c41657c",
   "metadata": {},
   "source": [
    "**From the above statistical and observational exploration with the dataset we can conclude that there are inconsistency within the dataset that needs to be addressed. Otherwise the analysis could be faulty**"
   ]
  },
  {
   "cell_type": "markdown",
   "id": "a15126be",
   "metadata": {},
   "source": [
    "# 2. Solving the XY flipped values"
   ]
  },
  {
   "cell_type": "markdown",
   "id": "cdf55dae",
   "metadata": {},
   "source": [
    "**we will now fix the XY data flip in the excel file using the following code and save it as a new excel file (fixed file)**"
   ]
  },
  {
   "cell_type": "code",
   "execution_count": 44,
   "id": "ff804ea4",
   "metadata": {},
   "outputs": [],
   "source": [
    "import pandas as pd\n",
    "\n",
    "# Read the Excel file into a pandas dataframe\n",
    "data_directory = r\"Downloads/\" \n",
    "clinic_data = pd.read_excel(data_directory +'ARTClinicData_GISClass_CAOnly.xlsx')\n",
    "\n",
    "# Check if latitude and longitude are flipped\n",
    "flip_mask = clinic_data['Long'] > clinic_data[' Lat']\n",
    "\n",
    "# Swap latitude and longitude values where they are flipped\n",
    "clinic_data.loc[flip_mask, ['Long', ' Lat']] = clinic_data.loc[flip_mask, [' Lat', 'Long']].values\n",
    "\n",
    "# Write the updated dataframe to a new Excel file\n",
    "clinic_data.to_excel('downloads/fixed_file.xlsx', index=False)\n"
   ]
  },
  {
   "cell_type": "markdown",
   "id": "541531bc",
   "metadata": {},
   "source": [
    "**After running the above code the corrected XY values will be saved in a new excel file named as 'fixed_file' in your defined data directory**"
   ]
  },
  {
   "cell_type": "code",
   "execution_count": 47,
   "id": "168ad5e4",
   "metadata": {},
   "outputs": [
    {
     "data": {
      "text/plain": [
       "<AxesSubplot:>"
      ]
     },
     "execution_count": 47,
     "metadata": {},
     "output_type": "execute_result"
    },
    {
     "data": {
      "image/png": "[encoded data removed]",
      "text/plain": [
       "<Figure size 432x288 with 1 Axes>"
      ]
     },
     "metadata": {
      "needs_background": "light"
     },
     "output_type": "display_data"
    }
   ],
   "source": [
    "import pandas as pd\n",
    "\n",
    "# Read the Excel file into a pandas dataframe\n",
    "data_directory = r\"Downloads/\" \n",
    "fixed_file = pd.read_excel(data_directory +'fixed_file.xlsx')\n",
    "fixed_file['Long'].plot()"
   ]
  },
  {
   "cell_type": "code",
   "execution_count": 48,
   "id": "6202be60",
   "metadata": {},
   "outputs": [
    {
     "data": {
      "text/plain": [
       "<AxesSubplot:>"
      ]
     },
     "execution_count": 48,
     "metadata": {},
     "output_type": "execute_result"
    },
    {
     "data": {
      "image/png": "[encoded data removed]",
      "text/plain": [
       "<Figure size 432x288 with 1 Axes>"
      ]
     },
     "metadata": {
      "needs_background": "light"
     },
     "output_type": "display_data"
    }
   ],
   "source": [
    "import pandas as pd\n",
    "\n",
    "# Read the Excel file into a pandas dataframe\n",
    "data_directory = r\"Downloads/\" \n",
    "fixed_file = pd.read_excel(data_directory +'fixed_file.xlsx')\n",
    "fixed_file[' Lat'].plot()"
   ]
  },
  {
   "cell_type": "markdown",
   "id": "c07efa60",
   "metadata": {},
   "source": [
    "**From the above two graphs we can see that after the XY values have been flipped the data is consistant for both Lat, Long values in the excel file. So we have solved this issue. Now we can geocode the address correctly for further analysis.**"
   ]
  },
  {
   "cell_type": "markdown",
   "id": "ad0a93cf",
   "metadata": {},
   "source": [
    "# 3. Geocoding Address\n",
    "Here we will geocde all the corrected addresses extracting data from the fixed excel file on open street map"
   ]
  },
  {
   "cell_type": "markdown",
   "id": "4bf25f23",
   "metadata": {},
   "source": [
    "**3.1 Example showing extracting Lat, Long values from Address for multiple location**"
   ]
  },
  {
   "cell_type": "code",
   "execution_count": 2,
   "id": "9101eee1",
   "metadata": {},
   "outputs": [
    {
     "name": "stdout",
     "output_type": "stream",
     "text": [
      "11370 ANDERSON ST, LOMA LINDA, CA, 92354 (34.047154995634756, -117.26202503650543)\n",
      "100 PARK PL, SAN RAMON, CA, 94583 (37.772525012387206, -121.98958195838591)\n",
      "101 ROWLAND WAY, NOVATO, CA, 94945 (38.0972720021835, -122.55965204097313)\n"
     ]
    }
   ],
   "source": [
    "#extracting X,Y coordinates for the specific addresses\n",
    "\n",
    "from geopy.geocoders import ArcGIS\n",
    "geolocator = ArcGIS()\n",
    "addresses = ['11370 ANDERSON ST, LOMA LINDA, CA, 92354','100 PARK PL, SAN RAMON, CA, 94583','101 ROWLAND WAY, NOVATO, CA, 94945']\n",
    "for address in addresses:\n",
    "    location = geolocator.geocode(address)\n",
    "    print(address, (location.latitude, location.longitude))\n",
    "    from geopy.geocoders import Nominatim\n",
    "\n",
    "# Create an instance of the Nominatim geocoder\n",
    "geolocator = Nominatim(user_agent='my_application')\n",
    "\n"
   ]
  },
  {
   "cell_type": "markdown",
   "id": "c44ce07c",
   "metadata": {},
   "source": [
    "**3.2 Example showing geocoding address in OSM for multiple location at the same time**"
   ]
  },
  {
   "cell_type": "code",
   "execution_count": 3,
   "id": "8f48944f",
   "metadata": {},
   "outputs": [
    {
     "data": {
      "text/html": [
       "<div style=\"width:100%;\"><div style=\"position:relative;width:100%;height:0;padding-bottom:60%;\"><span style=\"color:#565656\">Make this Notebook Trusted to load map: File -> Trust Notebook</span><iframe srcdoc=\"&lt;!DOCTYPE html&gt;\n",
       "&lt;html&gt;\n",
       "&lt;head&gt;\n",
       "    \n",
       "    &lt;meta http-equiv=&quot;content-type&quot; content=&quot;text/html; charset=UTF-8&quot; /&gt;\n",
       "    \n",
       "        &lt;script&gt;\n",
       "            L_NO_TOUCH = false;\n",
       "            L_DISABLE_3D = false;\n",
       "        &lt;/script&gt;\n",
       "    \n",
       "    &lt;style&gt;html, body {width: 100%;height: 100%;margin: 0;padding: 0;}&lt;/style&gt;\n",
       "    &lt;style&gt;#map {position:absolute;top:0;bottom:0;right:0;left:0;}&lt;/style&gt;\n",
       "    &lt;script src=&quot;https://cdn.jsdelivr.net/npm/leaflet@1.9.3/dist/leaflet.js&quot;&gt;&lt;/script&gt;\n",
       "    &lt;script src=&quot;https://code.jquery.com/jquery-1.12.4.min.js&quot;&gt;&lt;/script&gt;\n",
       "    &lt;script src=&quot;https://cdn.jsdelivr.net/npm/bootstrap@5.2.2/dist/js/bootstrap.bundle.min.js&quot;&gt;&lt;/script&gt;\n",
       "    &lt;script src=&quot;https://cdnjs.cloudflare.com/ajax/libs/Leaflet.awesome-markers/2.0.2/leaflet.awesome-markers.js&quot;&gt;&lt;/script&gt;\n",
       "    &lt;link rel=&quot;stylesheet&quot; href=&quot;https://cdn.jsdelivr.net/npm/leaflet@1.9.3/dist/leaflet.css&quot;/&gt;\n",
       "    &lt;link rel=&quot;stylesheet&quot; href=&quot;https://cdn.jsdelivr.net/npm/bootstrap@5.2.2/dist/css/bootstrap.min.css&quot;/&gt;\n",
       "    &lt;link rel=&quot;stylesheet&quot; href=&quot;https://netdna.bootstrapcdn.com/bootstrap/3.0.0/css/bootstrap.min.css&quot;/&gt;\n",
       "    &lt;link rel=&quot;stylesheet&quot; href=&quot;https://cdn.jsdelivr.net/npm/@fortawesome/fontawesome-free@6.2.0/css/all.min.css&quot;/&gt;\n",
       "    &lt;link rel=&quot;stylesheet&quot; href=&quot;https://cdnjs.cloudflare.com/ajax/libs/Leaflet.awesome-markers/2.0.2/leaflet.awesome-markers.css&quot;/&gt;\n",
       "    &lt;link rel=&quot;stylesheet&quot; href=&quot;https://cdn.jsdelivr.net/gh/python-visualization/folium/folium/templates/leaflet.awesome.rotate.min.css&quot;/&gt;\n",
       "    \n",
       "            &lt;meta name=&quot;viewport&quot; content=&quot;width=device-width,\n",
       "                initial-scale=1.0, maximum-scale=1.0, user-scalable=no&quot; /&gt;\n",
       "            &lt;style&gt;\n",
       "                #map_93e1ae942e6ed1b0dd5d50f03e90cea1 {\n",
       "                    position: relative;\n",
       "                    width: 100.0%;\n",
       "                    height: 100.0%;\n",
       "                    left: 0.0%;\n",
       "                    top: 0.0%;\n",
       "                }\n",
       "                .leaflet-container { font-size: 1rem; }\n",
       "            &lt;/style&gt;\n",
       "        \n",
       "&lt;/head&gt;\n",
       "&lt;body&gt;\n",
       "    \n",
       "    \n",
       "            &lt;div class=&quot;folium-map&quot; id=&quot;map_93e1ae942e6ed1b0dd5d50f03e90cea1&quot; &gt;&lt;/div&gt;\n",
       "        \n",
       "&lt;/body&gt;\n",
       "&lt;script&gt;\n",
       "    \n",
       "    \n",
       "            var map_93e1ae942e6ed1b0dd5d50f03e90cea1 = L.map(\n",
       "                &quot;map_93e1ae942e6ed1b0dd5d50f03e90cea1&quot;,\n",
       "                {\n",
       "                    center: [34.047154995634756, -117.26202503650543],\n",
       "                    crs: L.CRS.EPSG3857,\n",
       "                    zoom: 10,\n",
       "                    zoomControl: true,\n",
       "                    preferCanvas: false,\n",
       "                }\n",
       "            );\n",
       "\n",
       "            \n",
       "\n",
       "        \n",
       "    \n",
       "            var tile_layer_ff175ae033aa265fa1d672cbc38f63ee = L.tileLayer(\n",
       "                &quot;https://{s}.tile.openstreetmap.org/{z}/{x}/{y}.png&quot;,\n",
       "                {&quot;attribution&quot;: &quot;Data by \\u0026copy; \\u003ca target=\\&quot;_blank\\&quot; href=\\&quot;http://openstreetmap.org\\&quot;\\u003eOpenStreetMap\\u003c/a\\u003e, under \\u003ca target=\\&quot;_blank\\&quot; href=\\&quot;http://www.openstreetmap.org/copyright\\&quot;\\u003eODbL\\u003c/a\\u003e.&quot;, &quot;detectRetina&quot;: false, &quot;maxNativeZoom&quot;: 18, &quot;maxZoom&quot;: 18, &quot;minZoom&quot;: 0, &quot;noWrap&quot;: false, &quot;opacity&quot;: 1, &quot;subdomains&quot;: &quot;abc&quot;, &quot;tms&quot;: false}\n",
       "            ).addTo(map_93e1ae942e6ed1b0dd5d50f03e90cea1);\n",
       "        \n",
       "    \n",
       "            var marker_5d5af476ede35ceb5afb53b99485ff98 = L.marker(\n",
       "                [34.047154995634756, -117.26202503650543],\n",
       "                {}\n",
       "            ).addTo(map_93e1ae942e6ed1b0dd5d50f03e90cea1);\n",
       "        \n",
       "    \n",
       "            var marker_bc7f3ac2edf0ce6b33aa38f7baea0519 = L.marker(\n",
       "                [37.772525012387206, -121.98958195838591],\n",
       "                {}\n",
       "            ).addTo(map_93e1ae942e6ed1b0dd5d50f03e90cea1);\n",
       "        \n",
       "    \n",
       "            var marker_b4e012751e496d0bd0e8d02afe0ad14c = L.marker(\n",
       "                [38.0972720021835, -122.55965204097313],\n",
       "                {}\n",
       "            ).addTo(map_93e1ae942e6ed1b0dd5d50f03e90cea1);\n",
       "        \n",
       "    \n",
       "            var marker_c91278239e695802c1539d52b142b745 = L.marker(\n",
       "                [37.4800270178728, -122.1834200072025],\n",
       "                {}\n",
       "            ).addTo(map_93e1ae942e6ed1b0dd5d50f03e90cea1);\n",
       "        \n",
       "&lt;/script&gt;\n",
       "&lt;/html&gt;\" style=\"position:absolute;width:100%;height:100%;left:0;top:0;border:none !important;\" allowfullscreen webkitallowfullscreen mozallowfullscreen></iframe></div></div>"
      ],
      "text/plain": [
       "<folium.folium.Map at 0x1a729825d90>"
      ]
     },
     "execution_count": 3,
     "metadata": {},
     "output_type": "execute_result"
    }
   ],
   "source": [
    "\n",
    "\n",
    "import folium\n",
    "\n",
    "# List of addresses to geocode\n",
    "addresses = ['11370 ANDERSON ST, LOMA LINDA, CA, 92354', '100 PARK PL, SAN RAMON, CA, 94583','101 ROWLAND WAY, NOVATO, CA, 94945','1060 MARSH RD, MENLO PARK, CA, 94025']\n",
    "\n",
    "# Empty list to store geocoded coordinates\n",
    "coords = []\n",
    "\n",
    "# Create an instance of the ArcGIS geocoder\n",
    "geolocator = ArcGIS()\n",
    "\n",
    "# Loop through each address and geocode it\n",
    "for address in addresses:\n",
    "    location = geolocator.geocode(address)\n",
    "    if location is not None:\n",
    "        coords.append((location.latitude, location.longitude))\n",
    "\n",
    "# Create a map centered at the first geocoded address\n",
    "m = folium.Map(location=coords[0], zoom_start=10)\n",
    "\n",
    "# Add a marker for each geocoded address\n",
    "for coord in coords:\n",
    "    folium.Marker(location=coord).add_to(m)\n",
    "\n",
    "# Display the map\n",
    "m\n"
   ]
  },
  {
   "cell_type": "markdown",
   "id": "fa4b27e3",
   "metadata": {},
   "source": [
    "**3.3 Automated process of extracting geocodeed addresses for multiple location from excel file to OSM for visualization**"
   ]
  },
  {
   "cell_type": "code",
   "execution_count": 4,
   "id": "2aa4b465",
   "metadata": {},
   "outputs": [
    {
     "data": {
      "text/html": [
       "<div style=\"width:100%;\"><div style=\"position:relative;width:100%;height:0;padding-bottom:60%;\"><span style=\"color:#565656\">Make this Notebook Trusted to load map: File -> Trust Notebook</span><iframe srcdoc=\"&lt;!DOCTYPE html&gt;\n",
       "&lt;html&gt;\n",
       "&lt;head&gt;\n",
       "    \n",
       "    &lt;meta http-equiv=&quot;content-type&quot; content=&quot;text/html; charset=UTF-8&quot; /&gt;\n",
       "    \n",
       "        &lt;script&gt;\n",
       "            L_NO_TOUCH = false;\n",
       "            L_DISABLE_3D = false;\n",
       "        &lt;/script&gt;\n",
       "    \n",
       "    &lt;style&gt;html, body {width: 100%;height: 100%;margin: 0;padding: 0;}&lt;/style&gt;\n",
       "    &lt;style&gt;#map {position:absolute;top:0;bottom:0;right:0;left:0;}&lt;/style&gt;\n",
       "    &lt;script src=&quot;https://cdn.jsdelivr.net/npm/leaflet@1.9.3/dist/leaflet.js&quot;&gt;&lt;/script&gt;\n",
       "    &lt;script src=&quot;https://code.jquery.com/jquery-1.12.4.min.js&quot;&gt;&lt;/script&gt;\n",
       "    &lt;script src=&quot;https://cdn.jsdelivr.net/npm/bootstrap@5.2.2/dist/js/bootstrap.bundle.min.js&quot;&gt;&lt;/script&gt;\n",
       "    &lt;script src=&quot;https://cdnjs.cloudflare.com/ajax/libs/Leaflet.awesome-markers/2.0.2/leaflet.awesome-markers.js&quot;&gt;&lt;/script&gt;\n",
       "    &lt;link rel=&quot;stylesheet&quot; href=&quot;https://cdn.jsdelivr.net/npm/leaflet@1.9.3/dist/leaflet.css&quot;/&gt;\n",
       "    &lt;link rel=&quot;stylesheet&quot; href=&quot;https://cdn.jsdelivr.net/npm/bootstrap@5.2.2/dist/css/bootstrap.min.css&quot;/&gt;\n",
       "    &lt;link rel=&quot;stylesheet&quot; href=&quot;https://netdna.bootstrapcdn.com/bootstrap/3.0.0/css/bootstrap.min.css&quot;/&gt;\n",
       "    &lt;link rel=&quot;stylesheet&quot; href=&quot;https://cdn.jsdelivr.net/npm/@fortawesome/fontawesome-free@6.2.0/css/all.min.css&quot;/&gt;\n",
       "    &lt;link rel=&quot;stylesheet&quot; href=&quot;https://cdnjs.cloudflare.com/ajax/libs/Leaflet.awesome-markers/2.0.2/leaflet.awesome-markers.css&quot;/&gt;\n",
       "    &lt;link rel=&quot;stylesheet&quot; href=&quot;https://cdn.jsdelivr.net/gh/python-visualization/folium/folium/templates/leaflet.awesome.rotate.min.css&quot;/&gt;\n",
       "    \n",
       "            &lt;meta name=&quot;viewport&quot; content=&quot;width=device-width,\n",
       "                initial-scale=1.0, maximum-scale=1.0, user-scalable=no&quot; /&gt;\n",
       "            &lt;style&gt;\n",
       "                #map_c48bf95b01781f7f11f9c0a272df1b2c {\n",
       "                    position: relative;\n",
       "                    width: 100.0%;\n",
       "                    height: 100.0%;\n",
       "                    left: 0.0%;\n",
       "                    top: 0.0%;\n",
       "                }\n",
       "                .leaflet-container { font-size: 1rem; }\n",
       "            &lt;/style&gt;\n",
       "        \n",
       "&lt;/head&gt;\n",
       "&lt;body&gt;\n",
       "    \n",
       "    \n",
       "            &lt;div class=&quot;folium-map&quot; id=&quot;map_c48bf95b01781f7f11f9c0a272df1b2c&quot; &gt;&lt;/div&gt;\n",
       "        \n",
       "&lt;/body&gt;\n",
       "&lt;script&gt;\n",
       "    \n",
       "    \n",
       "            var map_c48bf95b01781f7f11f9c0a272df1b2c = L.map(\n",
       "                &quot;map_c48bf95b01781f7f11f9c0a272df1b2c&quot;,\n",
       "                {\n",
       "                    center: [34.047154995634756, -117.26202503650543],\n",
       "                    crs: L.CRS.EPSG3857,\n",
       "                    zoom: 10,\n",
       "                    zoomControl: true,\n",
       "                    preferCanvas: false,\n",
       "                }\n",
       "            );\n",
       "\n",
       "            \n",
       "\n",
       "        \n",
       "    \n",
       "            var tile_layer_31e27a56788ac78e4ed8a6808f71811d = L.tileLayer(\n",
       "                &quot;https://{s}.tile.openstreetmap.org/{z}/{x}/{y}.png&quot;,\n",
       "                {&quot;attribution&quot;: &quot;Data by \\u0026copy; \\u003ca target=\\&quot;_blank\\&quot; href=\\&quot;http://openstreetmap.org\\&quot;\\u003eOpenStreetMap\\u003c/a\\u003e, under \\u003ca target=\\&quot;_blank\\&quot; href=\\&quot;http://www.openstreetmap.org/copyright\\&quot;\\u003eODbL\\u003c/a\\u003e.&quot;, &quot;detectRetina&quot;: false, &quot;maxNativeZoom&quot;: 18, &quot;maxZoom&quot;: 18, &quot;minZoom&quot;: 0, &quot;noWrap&quot;: false, &quot;opacity&quot;: 1, &quot;subdomains&quot;: &quot;abc&quot;, &quot;tms&quot;: false}\n",
       "            ).addTo(map_c48bf95b01781f7f11f9c0a272df1b2c);\n",
       "        \n",
       "    \n",
       "            var marker_db24249341a00a9a0b4d2c5868a5c925 = L.marker(\n",
       "                [34.047154995634756, -117.26202503650543],\n",
       "                {}\n",
       "            ).addTo(map_c48bf95b01781f7f11f9c0a272df1b2c);\n",
       "        \n",
       "    \n",
       "            var marker_f5880ff80df8e9282ec3f4ad8c70d44b = L.marker(\n",
       "                [37.772525012387206, -121.98958195838591],\n",
       "                {}\n",
       "            ).addTo(map_c48bf95b01781f7f11f9c0a272df1b2c);\n",
       "        \n",
       "    \n",
       "            var marker_14bd8518533e64998de2c086f9aa89d3 = L.marker(\n",
       "                [38.0972720021835, -122.55965204097313],\n",
       "                {}\n",
       "            ).addTo(map_c48bf95b01781f7f11f9c0a272df1b2c);\n",
       "        \n",
       "    \n",
       "            var marker_3dd05543c092f099dd4cde12d956f81e = L.marker(\n",
       "                [37.4800270178728, -122.1834200072025],\n",
       "                {}\n",
       "            ).addTo(map_c48bf95b01781f7f11f9c0a272df1b2c);\n",
       "        \n",
       "    \n",
       "            var marker_e6d31a27a9035754832ba406267c5bfe = L.marker(\n",
       "                [34.05893898758056, -118.44492497781522],\n",
       "                {}\n",
       "            ).addTo(map_c48bf95b01781f7f11f9c0a272df1b2c);\n",
       "        \n",
       "    \n",
       "            var marker_b0583b8563a6677855fce4c69cb1294f = L.marker(\n",
       "                [34.05893898758056, -118.44492497781522],\n",
       "                {}\n",
       "            ).addTo(map_c48bf95b01781f7f11f9c0a272df1b2c);\n",
       "        \n",
       "    \n",
       "            var marker_5c3b2e9abbb6e5629d8ce6794f80d8b2 = L.marker(\n",
       "                [33.715471017041935, -117.93431703836393],\n",
       "                {}\n",
       "            ).addTo(map_c48bf95b01781f7f11f9c0a272df1b2c);\n",
       "        \n",
       "    \n",
       "            var marker_4ab4a5e2ef38b6c3a7edaa9406a50a7c = L.marker(\n",
       "                [34.05316398202123, -118.26381602243697],\n",
       "                {}\n",
       "            ).addTo(map_c48bf95b01781f7f11f9c0a272df1b2c);\n",
       "        \n",
       "    \n",
       "            var marker_44a44a920692953d1f46fdc56eaec004 = L.marker(\n",
       "                [38.73755498264802, -121.27547800600318],\n",
       "                {}\n",
       "            ).addTo(map_c48bf95b01781f7f11f9c0a272df1b2c);\n",
       "        \n",
       "    \n",
       "            var marker_ed448ef28b5126cdcf4688dba559d783 = L.marker(\n",
       "                [35.29195499852857, -120.66503497802887],\n",
       "                {}\n",
       "            ).addTo(map_c48bf95b01781f7f11f9c0a272df1b2c);\n",
       "        \n",
       "    \n",
       "            var marker_86ca21070df3b7701f93fa21728f2d39 = L.marker(\n",
       "                [33.61252301540809, -117.8707009916523],\n",
       "                {}\n",
       "            ).addTo(map_c48bf95b01781f7f11f9c0a272df1b2c);\n",
       "        \n",
       "    \n",
       "            var marker_d6777d9a053e849bd10bf029f2b22a60 = L.marker(\n",
       "                [37.79176701223095, -122.39361500478984],\n",
       "                {}\n",
       "            ).addTo(map_c48bf95b01781f7f11f9c0a272df1b2c);\n",
       "        \n",
       "    \n",
       "            var marker_eeec21e4420766cf87e05249f1f5fa97 = L.marker(\n",
       "                [33.66838798097726, -117.76559896663092],\n",
       "                {}\n",
       "            ).addTo(map_c48bf95b01781f7f11f9c0a272df1b2c);\n",
       "        \n",
       "    \n",
       "            var marker_1980b8a09a17f387fa4df8f444f9b5e5 = L.marker(\n",
       "                [34.155757010055595, -118.48248403448727],\n",
       "                {}\n",
       "            ).addTo(map_c48bf95b01781f7f11f9c0a272df1b2c);\n",
       "        \n",
       "    \n",
       "            var marker_b2d0da8b9aace353dca49778f93b0123 = L.marker(\n",
       "                [34.15676401190309, -118.48314997669456],\n",
       "                {}\n",
       "            ).addTo(map_c48bf95b01781f7f11f9c0a272df1b2c);\n",
       "        \n",
       "    \n",
       "            var marker_6391dc6810748e7714c14eea4480ede9 = L.marker(\n",
       "                [34.156658986656296, -118.48767603677123],\n",
       "                {}\n",
       "            ).addTo(map_c48bf95b01781f7f11f9c0a272df1b2c);\n",
       "        \n",
       "    \n",
       "            var marker_3ac526646988e572d5aaaf79c62cfa72 = L.marker(\n",
       "                [33.66043200421167, -117.77321300365645],\n",
       "                {}\n",
       "            ).addTo(map_c48bf95b01781f7f11f9c0a272df1b2c);\n",
       "        \n",
       "    \n",
       "            var marker_40e99872cbab781b7e5c9d09597a2928 = L.marker(\n",
       "                [38.596581597158945, -121.43035235881356],\n",
       "                {}\n",
       "            ).addTo(map_c48bf95b01781f7f11f9c0a272df1b2c);\n",
       "        \n",
       "    \n",
       "            var marker_394c4b5fa915345d444339c58b8b0eee = L.marker(\n",
       "                [37.430413988153646, -122.15171696718397],\n",
       "                {}\n",
       "            ).addTo(map_c48bf95b01781f7f11f9c0a272df1b2c);\n",
       "        \n",
       "    \n",
       "            var marker_7ee13edba7f88f43112e773c75b66f14 = L.marker(\n",
       "                [37.790532986535936, -122.42307596952799],\n",
       "                {}\n",
       "            ).addTo(map_c48bf95b01781f7f11f9c0a272df1b2c);\n",
       "        \n",
       "    \n",
       "            var marker_9137811882f950cf0ce11c74dbf12298 = L.marker(\n",
       "                [34.170940995295965, -118.5331180219227],\n",
       "                {}\n",
       "            ).addTo(map_c48bf95b01781f7f11f9c0a272df1b2c);\n",
       "        \n",
       "    \n",
       "            var marker_b67e502fb2ac36fa78d6ca3da50d1ba5 = L.marker(\n",
       "                [34.170940995295965, -118.5331180219227],\n",
       "                {}\n",
       "            ).addTo(map_c48bf95b01781f7f11f9c0a272df1b2c);\n",
       "        \n",
       "    \n",
       "            var marker_0b703146c4252d2107c4abffd348f30c = L.marker(\n",
       "                [34.06527902978471, -118.44627917168066],\n",
       "                {}\n",
       "            ).addTo(map_c48bf95b01781f7f11f9c0a272df1b2c);\n",
       "        \n",
       "    \n",
       "            var marker_fdb75202a5ef19d944edc00f47bcdb70 = L.marker(\n",
       "                [33.811486011283236, -118.3508060119817],\n",
       "                {}\n",
       "            ).addTo(map_c48bf95b01781f7f11f9c0a272df1b2c);\n",
       "        \n",
       "    \n",
       "            var marker_5d6946595b6c0b6e75048c51992a0887 = L.marker(\n",
       "                [37.369100995068024, -122.08202697433626],\n",
       "                {}\n",
       "            ).addTo(map_c48bf95b01781f7f11f9c0a272df1b2c);\n",
       "        \n",
       "    \n",
       "            var marker_9747ec6c2ea813896cd673e0c5414362 = L.marker(\n",
       "                [38.442038245704964, -122.70003240681254],\n",
       "                {}\n",
       "            ).addTo(map_c48bf95b01781f7f11f9c0a272df1b2c);\n",
       "        \n",
       "    \n",
       "            var marker_4b5b8af1b9672c1e6c1d0676e91d3540 = L.marker(\n",
       "                [34.03539548789936, -118.47181133956295],\n",
       "                {}\n",
       "            ).addTo(map_c48bf95b01781f7f11f9c0a272df1b2c);\n",
       "        \n",
       "    \n",
       "            var marker_650baf1350e515a37257abe242f7ff58 = L.marker(\n",
       "                [37.85596799005566, -122.25626000308257],\n",
       "                {}\n",
       "            ).addTo(map_c48bf95b01781f7f11f9c0a272df1b2c);\n",
       "        \n",
       "    \n",
       "            var marker_e9d2d69c01780cf2939fe53b55193aee = L.marker(\n",
       "                [34.174706020473835, -118.87148598156473],\n",
       "                {}\n",
       "            ).addTo(map_c48bf95b01781f7f11f9c0a272df1b2c);\n",
       "        \n",
       "    \n",
       "            var marker_feeadba4e867115e69a5ba420d0de97c = L.marker(\n",
       "                [33.654924004178, -117.86650098760916],\n",
       "                {}\n",
       "            ).addTo(map_c48bf95b01781f7f11f9c0a272df1b2c);\n",
       "        \n",
       "    \n",
       "            var marker_0c980a88cb019134228b8f3f21beab99 = L.marker(\n",
       "                [33.626122988586374, -117.92996498659717],\n",
       "                {}\n",
       "            ).addTo(map_c48bf95b01781f7f11f9c0a272df1b2c);\n",
       "        \n",
       "    \n",
       "            var marker_2f8f3b7584ff43c2474245e0625b57ea = L.marker(\n",
       "                [32.93619898284608, -117.23412603942404],\n",
       "                {}\n",
       "            ).addTo(map_c48bf95b01781f7f11f9c0a272df1b2c);\n",
       "        \n",
       "    \n",
       "            var marker_0fb55abb12edb28b15206affd7c43c10 = L.marker(\n",
       "                [33.81493000956948, -118.34971602929278],\n",
       "                {}\n",
       "            ).addTo(map_c48bf95b01781f7f11f9c0a272df1b2c);\n",
       "        \n",
       "    \n",
       "            var marker_98ed6b59577c9cfa9b6b655204985c18 = L.marker(\n",
       "                [37.55401998644416, -121.97675697597523],\n",
       "                {}\n",
       "            ).addTo(map_c48bf95b01781f7f11f9c0a272df1b2c);\n",
       "        \n",
       "    \n",
       "            var marker_e0622f1cebf5c5ad3f6943790ea5e2f9 = L.marker(\n",
       "                [34.07009500734047, -118.37522501050273],\n",
       "                {}\n",
       "            ).addTo(map_c48bf95b01781f7f11f9c0a272df1b2c);\n",
       "        \n",
       "    \n",
       "            var marker_2f4878ac0c2ab9f35d0de9eef8490152 = L.marker(\n",
       "                [34.15870299756466, -118.44931600543173],\n",
       "                {}\n",
       "            ).addTo(map_c48bf95b01781f7f11f9c0a272df1b2c);\n",
       "        \n",
       "    \n",
       "            var marker_e801224e1f30ef55e52ea97770056782 = L.marker(\n",
       "                [37.7658829827634, -122.38751297927811],\n",
       "                {}\n",
       "            ).addTo(map_c48bf95b01781f7f11f9c0a272df1b2c);\n",
       "        \n",
       "    \n",
       "            var marker_4aa3c952f508395ad03ad101518ded93 = L.marker(\n",
       "                [37.805337984024234, -122.40604402609452],\n",
       "                {}\n",
       "            ).addTo(map_c48bf95b01781f7f11f9c0a272df1b2c);\n",
       "        \n",
       "    \n",
       "            var marker_d4ba1ace87951946b29f2368b08c7cf3 = L.marker(\n",
       "                [37.262058014637816, -121.96616602221792],\n",
       "                {}\n",
       "            ).addTo(map_c48bf95b01781f7f11f9c0a272df1b2c);\n",
       "        \n",
       "    \n",
       "            var marker_8c565c2170e8c82adedf25fa5b2c8f4e = L.marker(\n",
       "                [36.8415469847813, -119.66091197899586],\n",
       "                {}\n",
       "            ).addTo(map_c48bf95b01781f7f11f9c0a272df1b2c);\n",
       "        \n",
       "    \n",
       "            var marker_1fb1660f54c05c5294b35f37487bd37c = L.marker(\n",
       "                [32.80157199725582, -117.15198900417982],\n",
       "                {}\n",
       "            ).addTo(map_c48bf95b01781f7f11f9c0a272df1b2c);\n",
       "        \n",
       "    \n",
       "            var marker_83130dac8e8da41ea0f782b60e7403ea = L.marker(\n",
       "                [34.09087399676949, -118.39252098388621],\n",
       "                {}\n",
       "            ).addTo(map_c48bf95b01781f7f11f9c0a272df1b2c);\n",
       "        \n",
       "    \n",
       "            var marker_a3b738106bf224b01531b8582ba6a418 = L.marker(\n",
       "                [36.571372010079855, -121.80180201390843],\n",
       "                {}\n",
       "            ).addTo(map_c48bf95b01781f7f11f9c0a272df1b2c);\n",
       "        \n",
       "    \n",
       "            var marker_62f58ab0c9c5eba286c1def1eed3cca8 = L.marker(\n",
       "                [37.94387600754568, -122.53445696203711],\n",
       "                {}\n",
       "            ).addTo(map_c48bf95b01781f7f11f9c0a272df1b2c);\n",
       "        \n",
       "    \n",
       "            var marker_277ed0fcd5818c1ad81c1852d95e0ee0 = L.marker(\n",
       "                [33.840068007744875, -116.54592099438696],\n",
       "                {}\n",
       "            ).addTo(map_c48bf95b01781f7f11f9c0a272df1b2c);\n",
       "        \n",
       "    \n",
       "            var marker_54ae7bcc49a3aa77466d87259225b111 = L.marker(\n",
       "                [37.56796898207067, -122.26757196815106],\n",
       "                {}\n",
       "            ).addTo(map_c48bf95b01781f7f11f9c0a272df1b2c);\n",
       "        \n",
       "    \n",
       "            var marker_0c3a5675b9d962f2b378766b715802f4 = L.marker(\n",
       "                [34.151709011826526, -118.23210401378205],\n",
       "                {}\n",
       "            ).addTo(map_c48bf95b01781f7f11f9c0a272df1b2c);\n",
       "        \n",
       "    \n",
       "            var marker_f7dc977d668966b2ea2c8574954eedf9 = L.marker(\n",
       "                [37.2534979960199, -121.95043603980469],\n",
       "                {}\n",
       "            ).addTo(map_c48bf95b01781f7f11f9c0a272df1b2c);\n",
       "        \n",
       "    \n",
       "            var marker_409be9dcc9cbb4a284a009b2740f3413 = L.marker(\n",
       "                [38.6123997571936, -121.51621162961992],\n",
       "                {}\n",
       "            ).addTo(map_c48bf95b01781f7f11f9c0a272df1b2c);\n",
       "        \n",
       "    \n",
       "            var marker_56292c3603c62afaf0a9380b38e8e6f0 = L.marker(\n",
       "                [34.139364019101194, -118.14780000510989],\n",
       "                {}\n",
       "            ).addTo(map_c48bf95b01781f7f11f9c0a272df1b2c);\n",
       "        \n",
       "    \n",
       "            var marker_1f5e9d6f186dcebc59cd9d8f1d8b2f1b = L.marker(\n",
       "                [33.90001701372677, -118.39575396776002],\n",
       "                {}\n",
       "            ).addTo(map_c48bf95b01781f7f11f9c0a272df1b2c);\n",
       "        \n",
       "    \n",
       "            var marker_c54f60f306c911a5231772d613df88cf = L.marker(\n",
       "                [34.068397001395184, -118.40674096644238],\n",
       "                {}\n",
       "            ).addTo(map_c48bf95b01781f7f11f9c0a272df1b2c);\n",
       "        \n",
       "    \n",
       "            var marker_0e7619dc430d962e97b3896f3d147e7b = L.marker(\n",
       "                [33.629966007373284, -117.92920600526463],\n",
       "                {}\n",
       "            ).addTo(map_c48bf95b01781f7f11f9c0a272df1b2c);\n",
       "        \n",
       "    \n",
       "            var marker_ebf72f0f15e5000b98ba27ee94b26494 = L.marker(\n",
       "                [34.43310601377539, -119.702559979494],\n",
       "                {}\n",
       "            ).addTo(map_c48bf95b01781f7f11f9c0a272df1b2c);\n",
       "        \n",
       "    \n",
       "            var marker_f2c06603c385c2298ef45df1dea672cb = L.marker(\n",
       "                [34.06269801969765, -118.34753204060138],\n",
       "                {}\n",
       "            ).addTo(map_c48bf95b01781f7f11f9c0a272df1b2c);\n",
       "        \n",
       "    \n",
       "            var marker_6b862305c7ca6b277e4cc0b01ad4a1e7 = L.marker(\n",
       "                [34.13489001064323, -118.15123700450698],\n",
       "                {}\n",
       "            ).addTo(map_c48bf95b01781f7f11f9c0a272df1b2c);\n",
       "        \n",
       "    \n",
       "            var marker_ba9d855ef2ee1b9e763f97e328bf4b38 = L.marker(\n",
       "                [34.06736200399108, -118.37661296984955],\n",
       "                {}\n",
       "            ).addTo(map_c48bf95b01781f7f11f9c0a272df1b2c);\n",
       "        \n",
       "    \n",
       "            var marker_34bae6dfa717796613cc081188184f23 = L.marker(\n",
       "                [34.0475740069745, -118.4626610011154],\n",
       "                {}\n",
       "            ).addTo(map_c48bf95b01781f7f11f9c0a272df1b2c);\n",
       "        \n",
       "    \n",
       "            var marker_1a085ea8e80f95ead5dcbd0c52b5ca6e = L.marker(\n",
       "                [33.6757459927703, -117.79402300612722],\n",
       "                {}\n",
       "            ).addTo(map_c48bf95b01781f7f11f9c0a272df1b2c);\n",
       "        \n",
       "    \n",
       "            var marker_553dd0fc7b23cabcf25019505b80c8a1 = L.marker(\n",
       "                [34.155212018711126, -118.47215702686094],\n",
       "                {}\n",
       "            ).addTo(map_c48bf95b01781f7f11f9c0a272df1b2c);\n",
       "        \n",
       "    \n",
       "            var marker_2dea003b7dfdb689274de974d9cf0742 = L.marker(\n",
       "                [34.05913897979033, -118.41183297262147],\n",
       "                {}\n",
       "            ).addTo(map_c48bf95b01781f7f11f9c0a272df1b2c);\n",
       "        \n",
       "    \n",
       "            var marker_d1936543a9ae2661612c6f8485bd3326 = L.marker(\n",
       "                [33.68625601925247, -117.81492101858134],\n",
       "                {}\n",
       "            ).addTo(map_c48bf95b01781f7f11f9c0a272df1b2c);\n",
       "        \n",
       "    \n",
       "            var marker_5415073f3550344e8b0b63da6f518cb4 = L.marker(\n",
       "                [34.148149008000345, -118.76737402694644],\n",
       "                {}\n",
       "            ).addTo(map_c48bf95b01781f7f11f9c0a272df1b2c);\n",
       "        \n",
       "    \n",
       "            var marker_cb3b89507d1fe2915e6acd5b4517546d = L.marker(\n",
       "                [32.72456699177836, -117.14546897315674],\n",
       "                {}\n",
       "            ).addTo(map_c48bf95b01781f7f11f9c0a272df1b2c);\n",
       "        \n",
       "    \n",
       "            var marker_fa6c4e024cff42645fcd2ee737ad58fc = L.marker(\n",
       "                [32.88291501481221, -117.22634000574533],\n",
       "                {}\n",
       "            ).addTo(map_c48bf95b01781f7f11f9c0a272df1b2c);\n",
       "        \n",
       "    \n",
       "            var marker_1ff8c8e95e5dae959b38e34f2be9f503 = L.marker(\n",
       "                [32.92764001196606, -117.23733798472087],\n",
       "                {}\n",
       "            ).addTo(map_c48bf95b01781f7f11f9c0a272df1b2c);\n",
       "        \n",
       "    \n",
       "            var marker_dc4b45d475fd3424b103de09bb92fb26 = L.marker(\n",
       "                [37.786755011317666, -122.4225029826269],\n",
       "                {}\n",
       "            ).addTo(map_c48bf95b01781f7f11f9c0a272df1b2c);\n",
       "        \n",
       "    \n",
       "            var marker_5e74657f3f9d959fc730a9f450dc9ba2 = L.marker(\n",
       "                [37.3526810143854, -122.06182499512184],\n",
       "                {}\n",
       "            ).addTo(map_c48bf95b01781f7f11f9c0a272df1b2c);\n",
       "        \n",
       "    \n",
       "            var marker_254d0f3ecaffa3452730907bf3504e8d = L.marker(\n",
       "                [33.05722301968244, -117.26099297276744],\n",
       "                {}\n",
       "            ).addTo(map_c48bf95b01781f7f11f9c0a272df1b2c);\n",
       "        \n",
       "    \n",
       "            var marker_9fbe773e6ad3c5c829df76482d32d3d5 = L.marker(\n",
       "                [33.92190899416893, -117.89798299684095],\n",
       "                {}\n",
       "            ).addTo(map_c48bf95b01781f7f11f9c0a272df1b2c);\n",
       "        \n",
       "    \n",
       "            var marker_c04b562525ff22fe9302a0f47f860ab4 = L.marker(\n",
       "                [33.853265020928006, -118.37906300014772],\n",
       "                {}\n",
       "            ).addTo(map_c48bf95b01781f7f11f9c0a272df1b2c);\n",
       "        \n",
       "&lt;/script&gt;\n",
       "&lt;/html&gt;\" style=\"position:absolute;width:100%;height:100%;left:0;top:0;border:none !important;\" allowfullscreen webkitallowfullscreen mozallowfullscreen></iframe></div></div>"
      ],
      "text/plain": [
       "<folium.folium.Map at 0x1a7298c9400>"
      ]
     },
     "execution_count": 4,
     "metadata": {},
     "output_type": "execute_result"
    }
   ],
   "source": [
    "\n",
    "import pandas as pd\n",
    "import folium\n",
    "from geopy.geocoders import ArcGIS\n",
    "\n",
    "# Read the Excel file into a pandas DataFrame\n",
    "df = pd.read_excel('Downloads/fixed_file.xlsx')\n",
    "\n",
    "# Extract the address column as a list\n",
    "addresses = df['Address'].tolist()\n",
    "\n",
    "# Empty list to store geocoded coordinates\n",
    "coords = []\n",
    "\n",
    "# Create an instance of the ArcGIS geocoder\n",
    "geolocator = ArcGIS()\n",
    "\n",
    "# Loop through each address and geocode it\n",
    "for address in addresses:\n",
    "    location = geolocator.geocode(address)\n",
    "    if location is not None:\n",
    "        coords.append((location.latitude, location.longitude))\n",
    "\n",
    "# Create a map centered at the first geocoded address\n",
    "m = folium.Map(location=coords[0], zoom_start=10)\n",
    "\n",
    "# Add a marker for each geocoded address\n",
    "for coord in coords:\n",
    "    folium.Marker(location=coord).add_to(m)\n",
    "\n",
    "# Display the map\n",
    "m\n"
   ]
  },
  {
   "cell_type": "markdown",
   "id": "f20d1f09",
   "metadata": {},
   "source": [
    "# 4. Closest Facility"
   ]
  },
  {
   "cell_type": "markdown",
   "id": "be1f8383",
   "metadata": {},
   "source": [
    "**Tried closest facility analysis but it's showing continious error message. Could not figure out what's wrong**"
   ]
  },
  {
   "cell_type": "code",
   "execution_count": 112,
   "id": "b76a1b8a",
   "metadata": {},
   "outputs": [
    {
     "ename": "ImportError",
     "evalue": "cannot import name 'ClosestFacility' from 'arcgis.network' (C:\\Program Files\\ArcGIS\\Pro\\bin\\Python\\envs\\arcgispro-py3\\lib\\site-packages\\arcgis\\network\\__init__.py)",
     "output_type": "error",
     "traceback": [
      "\u001b[1;31m---------------------------------------------------------------------------\u001b[0m",
      "\u001b[1;31mImportError\u001b[0m                               Traceback (most recent call last)",
      "\u001b[1;32m<ipython-input-112-f455e6a97e77>\u001b[0m in \u001b[0;36m<module>\u001b[1;34m\u001b[0m\n\u001b[0;32m      1\u001b[0m \u001b[1;32mfrom\u001b[0m \u001b[0marcgis\u001b[0m\u001b[1;33m.\u001b[0m\u001b[0mgis\u001b[0m \u001b[1;32mimport\u001b[0m \u001b[0mGIS\u001b[0m\u001b[1;33m\u001b[0m\u001b[1;33m\u001b[0m\u001b[0m\n\u001b[0;32m      2\u001b[0m \u001b[1;32mfrom\u001b[0m \u001b[0marcgis\u001b[0m\u001b[1;33m.\u001b[0m\u001b[0mfeatures\u001b[0m \u001b[1;32mimport\u001b[0m \u001b[0mFeatureLayer\u001b[0m\u001b[1;33m,\u001b[0m \u001b[0mFeatureSet\u001b[0m\u001b[1;33m\u001b[0m\u001b[1;33m\u001b[0m\u001b[0m\n\u001b[1;32m----> 3\u001b[1;33m \u001b[1;32mfrom\u001b[0m \u001b[0marcgis\u001b[0m\u001b[1;33m.\u001b[0m\u001b[0mnetwork\u001b[0m \u001b[1;32mimport\u001b[0m \u001b[0mClosestFacility\u001b[0m\u001b[1;33m\u001b[0m\u001b[1;33m\u001b[0m\u001b[0m\n\u001b[0m\u001b[0;32m      4\u001b[0m \u001b[1;32mimport\u001b[0m \u001b[0mpandas\u001b[0m \u001b[1;32mas\u001b[0m \u001b[0mpd\u001b[0m\u001b[1;33m\u001b[0m\u001b[1;33m\u001b[0m\u001b[0m\n\u001b[0;32m      5\u001b[0m \u001b[1;32mimport\u001b[0m \u001b[0mfolium\u001b[0m\u001b[1;33m\u001b[0m\u001b[1;33m\u001b[0m\u001b[0m\n",
      "\u001b[1;31mImportError\u001b[0m: cannot import name 'ClosestFacility' from 'arcgis.network' (C:\\Program Files\\ArcGIS\\Pro\\bin\\Python\\envs\\arcgispro-py3\\lib\\site-packages\\arcgis\\network\\__init__.py)"
     ]
    }
   ],
   "source": [
    "from arcgis.gis import GIS\n",
    "from arcgis.features import FeatureLayer, FeatureSet\n",
    "from arcgis.network import ClosestFacility\n",
    "import pandas as pd\n",
    "import folium\n",
    "\n",
    "# Set up the GIS connection\n",
    "gis = GIS()\n",
    "\n",
    "# Read the incident location from a CSV file\n",
    "incident_df = pd.read_excel('Downloads/fixed_file.xlsx')\n",
    "\n",
    "# Convert the DataFrame to a FeatureSet\n",
    "incident_fs = FeatureSet.from_dataframe(incident_df)\n",
    "\n",
    "# Read the hospital locations from a FeatureLayer\n",
    "hospital_fl = FeatureLayer('https://services.arcgis.com/<your_org_id>/arcgis/rest/services/<your_service_name>/FeatureServer/0')\n",
    "hospital_fs = hospital_fl.query().features\n",
    "\n",
    "# Convert the FeatureSet to a pandas DataFrame\n",
    "hospital_df = pd.DataFrame.from_records([f.attributes for f in hospital_fs])\n",
    "\n",
    "# Convert the DataFrame to a FeatureSet\n",
    "hospital_fs = FeatureSet.from_dataframe(hospital_df)\n",
    "\n",
    "# Create a ClosestFacility object\n",
    "cf = ClosestFacility(hospital_fl)\n",
    "\n",
    "# Set the analysis parameters\n",
    "cf.input_incidents = incident_fs\n",
    "cf.input_facilities = hospital_fs\n",
    "cf.travel_mode = 'Driving Time'\n",
    "cf.time_of_day = pd.Timestamp.now()\n",
    "\n",
    "# Run the analysis\n",
    "result = cf.solve()\n",
    "\n",
    "# Get the resulting routes as a DataFrame\n",
    "routes_df = result.output_routes.df\n",
    "\n",
    "# Create a folium map centered on the incident location\n",
    "m = folium.Map(location=[incident_df.iloc[0]['Y'], incident_df.iloc[0]['X']], zoom_start=10)\n",
    "\n",
    "# Add a marker for the incident location\n",
    "folium.Marker(location=[incident_df.iloc[0]['Y'], incident_df.iloc[0]['X']], icon=folium.Icon(color='red')).add_to(m)\n",
    "\n",
    "# Add markers for the hospital locations\n",
    "for _, row in hospital_df.iterrows():\n",
    "    folium.Marker(location=[row['Y'], row['X']], icon=folium.Icon(color='green')).add_to(m)\n",
    "\n",
    "# Add polylines for the routes\n",
    "for _, row in routes_df.iterrows():\n",
    "    coords = row['SHAPE']['paths'][0]\n",
    "    folium.PolyLine(locations=coords, color='blue').add_to(m)\n",
    "\n",
    "# Display the map\n",
    "m\n"
   ]
  },
  {
   "cell_type": "markdown",
   "id": "7918dcfd",
   "metadata": {},
   "source": [
    "# Drive Time Analysis"
   ]
  },
  {
   "cell_type": "markdown",
   "id": "77c85a4b",
   "metadata": {},
   "source": [
    "**Tried drive time analysis but it's showing continious error message. Could not figure out what's wrong**"
   ]
  },
  {
   "cell_type": "code",
   "execution_count": 5,
   "id": "8007ab66",
   "metadata": {},
   "outputs": [
    {
     "ename": "Exception",
     "evalue": "Invalid URL\n(Error Code: 400)",
     "output_type": "error",
     "traceback": [
      "\u001b[1;31m---------------------------------------------------------------------------\u001b[0m",
      "\u001b[1;31mException\u001b[0m                                 Traceback (most recent call last)",
      "\u001b[1;32m<ipython-input-5-333c82155e35>\u001b[0m in \u001b[0;36m<module>\u001b[1;34m\u001b[0m\n\u001b[0;32m     31\u001b[0m \u001b[0mimpedance_attribute\u001b[0m \u001b[1;33m=\u001b[0m \u001b[1;34m\"TravelTime\"\u001b[0m\u001b[1;33m\u001b[0m\u001b[1;33m\u001b[0m\u001b[0m\n\u001b[0;32m     32\u001b[0m \u001b[0mnetwork_url\u001b[0m \u001b[1;33m=\u001b[0m \u001b[0mgis\u001b[0m\u001b[1;33m.\u001b[0m\u001b[0mproperties\u001b[0m\u001b[1;33m.\u001b[0m\u001b[0mhelperServices\u001b[0m\u001b[1;33m.\u001b[0m\u001b[0mroutingUtilities\u001b[0m\u001b[1;33m.\u001b[0m\u001b[0murl\u001b[0m \u001b[1;33m+\u001b[0m \u001b[1;34m\"/findNetworkDataset\"\u001b[0m\u001b[1;33m\u001b[0m\u001b[1;33m\u001b[0m\u001b[0m\n\u001b[1;32m---> 33\u001b[1;33m \u001b[0mnetwork_dataset\u001b[0m \u001b[1;33m=\u001b[0m \u001b[0mNetworkDataset\u001b[0m\u001b[1;33m(\u001b[0m\u001b[0mnetwork_url\u001b[0m\u001b[1;33m,\u001b[0m \u001b[0mgis\u001b[0m\u001b[1;33m)\u001b[0m\u001b[1;33m\u001b[0m\u001b[1;33m\u001b[0m\u001b[0m\n\u001b[0m\u001b[0;32m     34\u001b[0m \u001b[1;33m\u001b[0m\u001b[0m\n\u001b[0;32m     35\u001b[0m \u001b[1;31m# Create a FeatureSet from the geocoded coordinates\u001b[0m\u001b[1;33m\u001b[0m\u001b[1;33m\u001b[0m\u001b[0m\n",
      "\u001b[1;32mC:\\Program Files\\ArcGIS\\Pro\\bin\\Python\\envs\\arcgispro-py3\\lib\\site-packages\\arcgis\\network\\_layer.py\u001b[0m in \u001b[0;36m__init__\u001b[1;34m(self, url, gis)\u001b[0m\n\u001b[0;32m   1704\u001b[0m         \u001b[0mself\u001b[0m\u001b[1;33m.\u001b[0m\u001b[0m_serviceAreaLayers\u001b[0m \u001b[1;33m=\u001b[0m \u001b[1;33m[\u001b[0m\u001b[1;33m]\u001b[0m\u001b[1;33m\u001b[0m\u001b[1;33m\u001b[0m\u001b[0m\n\u001b[0;32m   1705\u001b[0m         \u001b[0mself\u001b[0m\u001b[1;33m.\u001b[0m\u001b[0m_odCostMatrix\u001b[0m \u001b[1;33m=\u001b[0m \u001b[1;33m[\u001b[0m\u001b[1;33m]\u001b[0m\u001b[1;33m\u001b[0m\u001b[1;33m\u001b[0m\u001b[0m\n\u001b[1;32m-> 1706\u001b[1;33m         \u001b[0mself\u001b[0m\u001b[1;33m.\u001b[0m\u001b[0m_load_layers\u001b[0m\u001b[1;33m(\u001b[0m\u001b[1;33m)\u001b[0m\u001b[1;33m\u001b[0m\u001b[1;33m\u001b[0m\u001b[0m\n\u001b[0m\u001b[0;32m   1707\u001b[0m \u001b[1;33m\u001b[0m\u001b[0m\n\u001b[0;32m   1708\u001b[0m     \u001b[1;33m@\u001b[0m\u001b[0mclassmethod\u001b[0m\u001b[1;33m\u001b[0m\u001b[1;33m\u001b[0m\u001b[0m\n",
      "\u001b[1;32mC:\\Program Files\\ArcGIS\\Pro\\bin\\Python\\envs\\arcgispro-py3\\lib\\site-packages\\arcgis\\network\\_layer.py\u001b[0m in \u001b[0;36m_load_layers\u001b[1;34m(self)\u001b[0m\n\u001b[0;32m   1726\u001b[0m             \u001b[1;34m\"f\"\u001b[0m\u001b[1;33m:\u001b[0m \u001b[1;34m\"json\"\u001b[0m\u001b[1;33m,\u001b[0m\u001b[1;33m\u001b[0m\u001b[1;33m\u001b[0m\u001b[0m\n\u001b[0;32m   1727\u001b[0m         }\n\u001b[1;32m-> 1728\u001b[1;33m         \u001b[0mjson_dict\u001b[0m \u001b[1;33m=\u001b[0m \u001b[0mself\u001b[0m\u001b[1;33m.\u001b[0m\u001b[0m_con\u001b[0m\u001b[1;33m.\u001b[0m\u001b[0mget\u001b[0m\u001b[1;33m(\u001b[0m\u001b[0mpath\u001b[0m\u001b[1;33m=\u001b[0m\u001b[0mself\u001b[0m\u001b[1;33m.\u001b[0m\u001b[0m_url\u001b[0m\u001b[1;33m,\u001b[0m \u001b[0mparams\u001b[0m\u001b[1;33m=\u001b[0m\u001b[0mparams\u001b[0m\u001b[1;33m)\u001b[0m\u001b[1;33m\u001b[0m\u001b[1;33m\u001b[0m\u001b[0m\n\u001b[0m\u001b[0;32m   1729\u001b[0m         \u001b[1;32mfor\u001b[0m \u001b[0mk\u001b[0m\u001b[1;33m,\u001b[0m \u001b[0mv\u001b[0m \u001b[1;32min\u001b[0m \u001b[0mjson_dict\u001b[0m\u001b[1;33m.\u001b[0m\u001b[0mitems\u001b[0m\u001b[1;33m(\u001b[0m\u001b[1;33m)\u001b[0m\u001b[1;33m:\u001b[0m\u001b[1;33m\u001b[0m\u001b[1;33m\u001b[0m\u001b[0m\n\u001b[0;32m   1730\u001b[0m             \u001b[1;32mif\u001b[0m \u001b[0mk\u001b[0m \u001b[1;33m==\u001b[0m \u001b[1;34m\"routeLayers\"\u001b[0m \u001b[1;32mand\u001b[0m \u001b[0mjson_dict\u001b[0m\u001b[1;33m[\u001b[0m\u001b[0mk\u001b[0m\u001b[1;33m]\u001b[0m\u001b[1;33m:\u001b[0m\u001b[1;33m\u001b[0m\u001b[1;33m\u001b[0m\u001b[0m\n",
      "\u001b[1;32mC:\\Program Files\\ArcGIS\\Pro\\bin\\Python\\envs\\arcgispro-py3\\lib\\site-packages\\arcgis\\gis\\_impl\\_con\\_connection.py\u001b[0m in \u001b[0;36mget\u001b[1;34m(self, path, params, **kwargs)\u001b[0m\n\u001b[0;32m    882\u001b[0m         \u001b[1;32mif\u001b[0m \u001b[0mreturn_raw_response\u001b[0m\u001b[1;33m:\u001b[0m\u001b[1;33m\u001b[0m\u001b[1;33m\u001b[0m\u001b[0m\n\u001b[0;32m    883\u001b[0m             \u001b[1;32mreturn\u001b[0m \u001b[0mresp\u001b[0m\u001b[1;33m\u001b[0m\u001b[1;33m\u001b[0m\u001b[0m\n\u001b[1;32m--> 884\u001b[1;33m         return self._handle_response(\n\u001b[0m\u001b[0;32m    885\u001b[0m             \u001b[0mresp\u001b[0m\u001b[1;33m,\u001b[0m\u001b[1;33m\u001b[0m\u001b[1;33m\u001b[0m\u001b[0m\n\u001b[0;32m    886\u001b[0m             \u001b[0mfile_name\u001b[0m\u001b[1;33m,\u001b[0m\u001b[1;33m\u001b[0m\u001b[1;33m\u001b[0m\u001b[0m\n",
      "\u001b[1;32mC:\\Program Files\\ArcGIS\\Pro\\bin\\Python\\envs\\arcgispro-py3\\lib\\site-packages\\arcgis\\gis\\_impl\\_con\\_connection.py\u001b[0m in \u001b[0;36m_handle_response\u001b[1;34m(self, resp, file_name, out_path, try_json, force_bytes, ignore_error_key)\u001b[0m\n\u001b[0;32m   1025\u001b[0m                     \u001b[0mdata\u001b[0m\u001b[1;33m[\u001b[0m\u001b[1;34m\"error\"\u001b[0m\u001b[1;33m]\u001b[0m\u001b[1;33m[\u001b[0m\u001b[1;34m\"code\"\u001b[0m\u001b[1;33m]\u001b[0m \u001b[1;32mif\u001b[0m \u001b[1;34m\"code\"\u001b[0m \u001b[1;32min\u001b[0m \u001b[0mdata\u001b[0m\u001b[1;33m[\u001b[0m\u001b[1;34m\"error\"\u001b[0m\u001b[1;33m]\u001b[0m \u001b[1;32melse\u001b[0m \u001b[1;36m0\u001b[0m\u001b[1;33m\u001b[0m\u001b[1;33m\u001b[0m\u001b[0m\n\u001b[0;32m   1026\u001b[0m                 )\n\u001b[1;32m-> 1027\u001b[1;33m                 \u001b[0mself\u001b[0m\u001b[1;33m.\u001b[0m\u001b[0m_handle_json_error\u001b[0m\u001b[1;33m(\u001b[0m\u001b[0mdata\u001b[0m\u001b[1;33m[\u001b[0m\u001b[1;34m\"error\"\u001b[0m\u001b[1;33m]\u001b[0m\u001b[1;33m,\u001b[0m \u001b[0merrorcode\u001b[0m\u001b[1;33m)\u001b[0m\u001b[1;33m\u001b[0m\u001b[1;33m\u001b[0m\u001b[0m\n\u001b[0m\u001b[0;32m   1028\u001b[0m             \u001b[1;32mreturn\u001b[0m \u001b[0mdata\u001b[0m\u001b[1;33m\u001b[0m\u001b[1;33m\u001b[0m\u001b[0m\n\u001b[0;32m   1029\u001b[0m         \u001b[1;32melse\u001b[0m\u001b[1;33m:\u001b[0m\u001b[1;33m\u001b[0m\u001b[1;33m\u001b[0m\u001b[0m\n",
      "\u001b[1;32mC:\\Program Files\\ArcGIS\\Pro\\bin\\Python\\envs\\arcgispro-py3\\lib\\site-packages\\arcgis\\gis\\_impl\\_con\\_connection.py\u001b[0m in \u001b[0;36m_handle_json_error\u001b[1;34m(self, error, errorcode)\u001b[0m\n\u001b[0;32m   1050\u001b[0m             \u001b[0merrormessage\u001b[0m \u001b[1;33m+\u001b[0m \u001b[1;34m\"\\n(Error Code: \"\u001b[0m \u001b[1;33m+\u001b[0m \u001b[0mstr\u001b[0m\u001b[1;33m(\u001b[0m\u001b[0merrorcode\u001b[0m\u001b[1;33m)\u001b[0m \u001b[1;33m+\u001b[0m \u001b[1;34m\")\"\u001b[0m\u001b[1;33m\u001b[0m\u001b[1;33m\u001b[0m\u001b[0m\n\u001b[0;32m   1051\u001b[0m         )\n\u001b[1;32m-> 1052\u001b[1;33m         \u001b[1;32mraise\u001b[0m \u001b[0mException\u001b[0m\u001b[1;33m(\u001b[0m\u001b[0merrormessage\u001b[0m\u001b[1;33m)\u001b[0m\u001b[1;33m\u001b[0m\u001b[1;33m\u001b[0m\u001b[0m\n\u001b[0m\u001b[0;32m   1053\u001b[0m \u001b[1;33m\u001b[0m\u001b[0m\n\u001b[0;32m   1054\u001b[0m     def post_multipart(\n",
      "\u001b[1;31mException\u001b[0m: Invalid URL\n(Error Code: 400)"
     ]
    }
   ],
   "source": [
    "from arcgis.gis import GIS\n",
    "from arcgis.features import FeatureLayer, FeatureSet\n",
    "from arcgis.network import ClosestFacilityLayer, NetworkDataset\n",
    "\n",
    "import pandas as pd\n",
    "from geopy.geocoders import ArcGIS\n",
    "\n",
    "# Read the Excel file into a pandas DataFrame\n",
    "df = pd.read_excel('Downloads/fixed_file.xlsx')\n",
    "\n",
    "# Extract the address column as a list\n",
    "addresses = df['Address'].tolist()\n",
    "\n",
    "# Empty list to store geocoded coordinates\n",
    "coords = []\n",
    "\n",
    "# Create an instance of the ArcGIS geocoder\n",
    "geolocator = ArcGIS()\n",
    "\n",
    "# Loop through each address and geocode it\n",
    "for address in addresses:\n",
    "    location = geolocator.geocode(address)\n",
    "    if location is not None:\n",
    "        coords.append((location.longitude, location.latitude))\n",
    "\n",
    "# Sign in to your ArcGIS Online account\n",
    "gis = GIS(\"home\")\n",
    "\n",
    "# Get the network dataset for the specified travel mode\n",
    "travel_mode = \"Driving Time\"\n",
    "impedance_attribute = \"TravelTime\"\n",
    "network_url = gis.properties.helperServices.routingUtilities.url + \"/findNetworkDataset\"\n",
    "network_dataset = NetworkDataset(network_url, gis)\n",
    "\n",
    "# Create a FeatureSet from the geocoded coordinates\n",
    "features = [ {\"geometry\": {\"x\": x, \"y\": y}} for x, y in coords ]\n",
    "feature_set = FeatureSet(features)\n",
    "\n",
    "# Publish the FeatureSet as a temporary feature layer\n",
    "layer = gis.content.import_data(feature_set, title=\"My Temporary Layer\")\n",
    "\n",
    "# Create a ClosestFacilityLayer and configure the analysis\n",
    "cfl = ClosestFacilityLayer(layer, network_dataset=network_dataset, impedance_attribute=impedance_attribute)\n",
    "cfl.solve(solve_callback=lambda x: print(\"Solved.\"))\n",
    "\n",
    "# Visualize the results on a map\n",
    "map_widget = gis.map(\"United States\", zoomlevel=4)\n",
    "map_widget.add_layer(cfl.output_routes)\n",
    "map_widget.add_layer(cfl.output_facilities)\n",
    "map_widget.add_layer(cfl.output_directions)\n",
    "map_widget\n"
   ]
  },
  {
   "cell_type": "code",
   "execution_count": null,
   "id": "135fff13",
   "metadata": {},
   "outputs": [],
   "source": []
  }
 ],
 "metadata": {
  "kernelspec": {
   "display_name": "Python 3",
   "language": "python",
   "name": "python3"
  },
  "language_info": {
   "codemirror_mode": {
    "name": "ipython",
    "version": 3
   },
   "file_extension": ".py",
   "mimetype": "text/x-python",
   "name": "python",
   "nbconvert_exporter": "python",
   "pygments_lexer": "ipython3",
   "version": "3.9.11"
  }
 },
 "nbformat": 4,
 "nbformat_minor": 5
}
