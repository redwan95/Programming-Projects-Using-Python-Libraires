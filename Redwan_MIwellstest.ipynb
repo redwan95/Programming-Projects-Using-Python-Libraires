{
 "cells": [
  {
   "cell_type": "markdown",
   "id": "d4a4946b",
   "metadata": {
    "id": "c482b683"
   },
   "source": [
    "# Data Exploration using the test Sample MIwellstest"
   ]
  },
  {
   "cell_type": "code",
   "execution_count": 1,
   "id": "d9fb306e",
   "metadata": {
    "id": "4a6c460b"
   },
   "outputs": [],
   "source": [
    "# path of the file\n",
    "myfile=r\"c:/py/MIwellstest.csv\""
   ]
  },
  {
   "cell_type": "markdown",
   "id": "5f934471",
   "metadata": {
    "id": "d7cc9b30"
   },
   "source": [
    "# Trying Pandas"
   ]
  },
  {
   "cell_type": "code",
   "execution_count": 7,
   "id": "6ff206c4",
   "metadata": {
    "id": "76fc4160"
   },
   "outputs": [],
   "source": [
    "# import pandas\n",
    "import pandas as pd\n",
    "\n",
    "# read csv file using pandas\n",
    "welldata = pd.read_csv(myfile, sep='\\t', header=0)"
   ]
  },
  {
   "cell_type": "code",
   "execution_count": 8,
   "id": "624a58ad",
   "metadata": {
    "colab": {
     "base_uri": "https://localhost:8080/"
    },
    "id": "40205af8",
    "outputId": "d62f7b3b-ad67-49e6-b814-ae0e01d4763c"
   },
   "outputs": [
    {
     "name": "stdout",
     "output_type": "stream",
     "text": [
      "<class 'pandas.core.frame.DataFrame'>\n",
      "RangeIndex: 34 entries, 0 to 33\n",
      "Data columns (total 18 columns):\n",
      " #   Column      Non-Null Count  Dtype  \n",
      "---  ------      --------------  -----  \n",
      " 0   WELLID      34 non-null     int64  \n",
      " 1   COUNTY      34 non-null     object \n",
      " 2   TOWNSHIP    34 non-null     object \n",
      " 3   SECTION     34 non-null     int64  \n",
      " 4   WELL_ADDR   32 non-null     object \n",
      " 5   WELL_CITY   30 non-null     object \n",
      " 6   WELL_ZIP    25 non-null     float64\n",
      " 7   WELL_DEPTH  34 non-null     int64  \n",
      " 8   WELL_TYPE   34 non-null     object \n",
      " 9   DRILL_METH  34 non-null     object \n",
      " 10  CONST_DATE  34 non-null     object \n",
      " 11  CASE_TYPE   34 non-null     object \n",
      " 12  CASE_DEPTH  34 non-null     int64  \n",
      " 13  FLOWING     34 non-null     object \n",
      " 14  PMP_CPCITY  22 non-null     float64\n",
      " 15  LATITUDE    34 non-null     float64\n",
      " 16  LONGITUDE   34 non-null     float64\n",
      " 17  LANDSYS     34 non-null     object \n",
      "dtypes: float64(4), int64(4), object(10)\n",
      "memory usage: 4.9+ KB\n"
     ]
    }
   ],
   "source": [
    "# getting some infromation about the data in the pandawell dataframe\n",
    "welldata.info()\n"
   ]
  },
  {
   "cell_type": "markdown",
   "id": "c7092ea3",
   "metadata": {
    "id": "aIIzac96Su93"
   },
   "source": [
    "**(1) Trying out different commands**"
   ]
  },
  {
   "cell_type": "code",
   "execution_count": 9,
   "id": "c4ec4ad3",
   "metadata": {
    "colab": {
     "base_uri": "https://localhost:8080/"
    },
    "id": "fcfbf440",
    "outputId": "70f049c4-966b-4291-b4a4-90c5c5e8063e"
   },
   "outputs": [
    {
     "data": {
      "text/plain": [
       "0      45\n",
       "1     160\n",
       "2      68\n",
       "3      35\n",
       "4     205\n",
       "5      98\n",
       "6      82\n",
       "7     114\n",
       "8     180\n",
       "9     201\n",
       "10     62\n",
       "11     28\n",
       "12    135\n",
       "13    101\n",
       "14     76\n",
       "15     55\n",
       "16     80\n",
       "17     65\n",
       "18     40\n",
       "19     44\n",
       "20     55\n",
       "21     64\n",
       "22    196\n",
       "23    125\n",
       "24     45\n",
       "25     62\n",
       "26     40\n",
       "27     46\n",
       "28     62\n",
       "29     44\n",
       "30     31\n",
       "31    101\n",
       "32     70\n",
       "33     85\n",
       "Name: WELL_DEPTH, dtype: int64"
      ]
     },
     "execution_count": 9,
     "metadata": {},
     "output_type": "execute_result"
    }
   ],
   "source": [
    "# selecting a column\n",
    "welldata['WELL_DEPTH']"
   ]
  },
  {
   "cell_type": "code",
   "execution_count": 10,
   "id": "ed75b07e",
   "metadata": {},
   "outputs": [
    {
     "data": {
      "text/plain": [
       "['WELLID',\n",
       " 'COUNTY',\n",
       " 'TOWNSHIP',\n",
       " 'SECTION',\n",
       " 'WELL_ADDR',\n",
       " 'WELL_CITY',\n",
       " 'WELL_ZIP',\n",
       " 'WELL_DEPTH',\n",
       " 'WELL_TYPE',\n",
       " 'DRILL_METH',\n",
       " 'CONST_DATE',\n",
       " 'CASE_TYPE',\n",
       " 'CASE_DEPTH',\n",
       " 'FLOWING',\n",
       " 'PMP_CPCITY',\n",
       " 'LATITUDE',\n",
       " 'LONGITUDE',\n",
       " 'LANDSYS']"
      ]
     },
     "execution_count": 10,
     "metadata": {},
     "output_type": "execute_result"
    }
   ],
   "source": [
    "welldata.columns.tolist()"
   ]
  },
  {
   "cell_type": "markdown",
   "id": "5b89947a",
   "metadata": {
    "id": "g0CYTAxYJKob"
   },
   "source": [
    "**(2) Stats**"
   ]
  },
  {
   "cell_type": "code",
   "execution_count": 11,
   "id": "0bbfe3a1",
   "metadata": {
    "colab": {
     "base_uri": "https://localhost:8080/"
    },
    "id": "i5sGm1IjBdPc",
    "outputId": "bd515da5-debe-40f4-e5a2-8c575231ab0f"
   },
   "outputs": [
    {
     "data": {
      "text/plain": [
       "205"
      ]
     },
     "execution_count": 11,
     "metadata": {},
     "output_type": "execute_result"
    }
   ],
   "source": [
    "# find mean of WELL_DEPTH\n",
    "welldata['WELL_DEPTH'].max()"
   ]
  },
  {
   "cell_type": "code",
   "execution_count": 21,
   "id": "acb03de1",
   "metadata": {},
   "outputs": [
    {
     "data": {
      "text/plain": [
       "85.29411764705883"
      ]
     },
     "execution_count": 21,
     "metadata": {},
     "output_type": "execute_result"
    }
   ],
   "source": [
    "# find mean of WELL_DEPTH\n",
    "welldata['WELL_DEPTH'].mean()"
   ]
  },
  {
   "cell_type": "code",
   "execution_count": 15,
   "id": "ad036255",
   "metadata": {},
   "outputs": [
    {
     "data": {
      "text/plain": [
       "28"
      ]
     },
     "execution_count": 15,
     "metadata": {},
     "output_type": "execute_result"
    }
   ],
   "source": [
    "# find mean of WELL_DEPTH\n",
    "welldata['WELL_DEPTH'].min()"
   ]
  },
  {
   "cell_type": "markdown",
   "id": "479545d7",
   "metadata": {
    "id": "ETPIaZDaBaZT"
   },
   "source": [
    "**(3) Grouping**"
   ]
  },
  {
   "cell_type": "code",
   "execution_count": 14,
   "id": "6024b58d",
   "metadata": {
    "colab": {
     "base_uri": "https://localhost:8080/"
    },
    "id": "WYqUjkcm9-O5",
    "outputId": "29197913-337f-43af-b613-452b6bbb06aa"
   },
   "outputs": [
    {
     "data": {
      "text/plain": [
       "DRILL_METH\n",
       "CABTOO     3\n",
       "HOLROD     3\n",
       "JETTIN    13\n",
       "ROTARY    14\n",
       "UNK        1\n",
       "dtype: int64"
      ]
     },
     "execution_count": 14,
     "metadata": {},
     "output_type": "execute_result"
    }
   ],
   "source": [
    "# find out total count of each DRILL_METH\n",
    "welldata.groupby('DRILL_METH').size()"
   ]
  },
  {
   "cell_type": "markdown",
   "id": "44f79858",
   "metadata": {
    "id": "2xRtFQorJCp6"
   },
   "source": [
    "**(4) Pivot Table**"
   ]
  },
  {
   "cell_type": "code",
   "execution_count": 13,
   "id": "612dbb45",
   "metadata": {
    "colab": {
     "base_uri": "https://localhost:8080/",
     "height": 238
    },
    "id": "24c163c2",
    "outputId": "b536561c-a74e-4528-d373-6c86a9aef398"
   },
   "outputs": [
    {
     "data": {
      "text/html": [
       "<div>\n",
       "<style scoped>\n",
       "    .dataframe tbody tr th:only-of-type {\n",
       "        vertical-align: middle;\n",
       "    }\n",
       "\n",
       "    .dataframe tbody tr th {\n",
       "        vertical-align: top;\n",
       "    }\n",
       "\n",
       "    .dataframe thead th {\n",
       "        text-align: right;\n",
       "    }\n",
       "</style>\n",
       "<table border=\"1\" class=\"dataframe\">\n",
       "  <thead>\n",
       "    <tr style=\"text-align: right;\">\n",
       "      <th>COUNTY</th>\n",
       "      <th>Allegan</th>\n",
       "      <th>Barry</th>\n",
       "      <th>Branch</th>\n",
       "      <th>Calhoun</th>\n",
       "      <th>Cass</th>\n",
       "      <th>Kalamazoo</th>\n",
       "      <th>Van Buren</th>\n",
       "    </tr>\n",
       "    <tr>\n",
       "      <th>DRILL_METH</th>\n",
       "      <th></th>\n",
       "      <th></th>\n",
       "      <th></th>\n",
       "      <th></th>\n",
       "      <th></th>\n",
       "      <th></th>\n",
       "      <th></th>\n",
       "    </tr>\n",
       "  </thead>\n",
       "  <tbody>\n",
       "    <tr>\n",
       "      <th>CABTOO</th>\n",
       "      <td>NaN</td>\n",
       "      <td>1.0</td>\n",
       "      <td>NaN</td>\n",
       "      <td>NaN</td>\n",
       "      <td>NaN</td>\n",
       "      <td>1.0</td>\n",
       "      <td>1.0</td>\n",
       "    </tr>\n",
       "    <tr>\n",
       "      <th>HOLROD</th>\n",
       "      <td>NaN</td>\n",
       "      <td>2.0</td>\n",
       "      <td>NaN</td>\n",
       "      <td>NaN</td>\n",
       "      <td>NaN</td>\n",
       "      <td>NaN</td>\n",
       "      <td>1.0</td>\n",
       "    </tr>\n",
       "    <tr>\n",
       "      <th>JETTIN</th>\n",
       "      <td>1.0</td>\n",
       "      <td>1.0</td>\n",
       "      <td>NaN</td>\n",
       "      <td>NaN</td>\n",
       "      <td>NaN</td>\n",
       "      <td>4.0</td>\n",
       "      <td>7.0</td>\n",
       "    </tr>\n",
       "    <tr>\n",
       "      <th>ROTARY</th>\n",
       "      <td>2.0</td>\n",
       "      <td>6.0</td>\n",
       "      <td>2.0</td>\n",
       "      <td>1.0</td>\n",
       "      <td>NaN</td>\n",
       "      <td>2.0</td>\n",
       "      <td>1.0</td>\n",
       "    </tr>\n",
       "    <tr>\n",
       "      <th>UNK</th>\n",
       "      <td>NaN</td>\n",
       "      <td>NaN</td>\n",
       "      <td>NaN</td>\n",
       "      <td>NaN</td>\n",
       "      <td>1.0</td>\n",
       "      <td>NaN</td>\n",
       "      <td>NaN</td>\n",
       "    </tr>\n",
       "  </tbody>\n",
       "</table>\n",
       "</div>"
      ],
      "text/plain": [
       "COUNTY      Allegan  Barry  Branch  Calhoun  Cass  Kalamazoo  Van Buren\n",
       "DRILL_METH                                                             \n",
       "CABTOO          NaN    1.0     NaN      NaN   NaN        1.0        1.0\n",
       "HOLROD          NaN    2.0     NaN      NaN   NaN        NaN        1.0\n",
       "JETTIN          1.0    1.0     NaN      NaN   NaN        4.0        7.0\n",
       "ROTARY          2.0    6.0     2.0      1.0   NaN        2.0        1.0\n",
       "UNK             NaN    NaN     NaN      NaN   1.0        NaN        NaN"
      ]
     },
     "execution_count": 13,
     "metadata": {},
     "output_type": "execute_result"
    }
   ],
   "source": [
    "# pivot table of which COUNTY contains how many of a specific DRILL_METH\n",
    "welldata.pivot_table(index=\"DRILL_METH\", columns=\"COUNTY\", values=\"WELL_DEPTH\", aggfunc='size')"
   ]
  },
  {
   "cell_type": "markdown",
   "id": "56ebcf12",
   "metadata": {},
   "source": [
    "**(5) Plotting a Column**"
   ]
  },
  {
   "cell_type": "code",
   "execution_count": 12,
   "id": "f29cb8bb",
   "metadata": {},
   "outputs": [
    {
     "data": {
      "text/plain": [
       "<AxesSubplot:>"
      ]
     },
     "execution_count": 12,
     "metadata": {},
     "output_type": "execute_result"
    },
    {
     "data": {
      "image/png": "[encoded data removed]",
      "text/plain": [
       "<Figure size 432x288 with 1 Axes>"
      ]
     },
     "metadata": {
      "needs_background": "light"
     },
     "output_type": "display_data"
    }
   ],
   "source": [
    "# Well depth graph\n",
    "welldata['WELL_DEPTH'].plot()"
   ]
  },
  {
   "cell_type": "code",
   "execution_count": null,
   "id": "4cb76ff0",
   "metadata": {},
   "outputs": [],
   "source": []
  }
 ],
 "metadata": {
  "colab": {
   "provenance": []
  },
  "kernelspec": {
   "display_name": "Python 3",
   "language": "python",
   "name": "python3"
  },
  "language_info": {
   "codemirror_mode": {
    "name": "ipython",
    "version": 3
   },
   "file_extension": ".py",
   "mimetype": "text/x-python",
   "name": "python",
   "nbconvert_exporter": "python",
   "pygments_lexer": "ipython3",
   "version": "3.9.11"
  }
 },
 "nbformat": 4,
 "nbformat_minor": 5
}
