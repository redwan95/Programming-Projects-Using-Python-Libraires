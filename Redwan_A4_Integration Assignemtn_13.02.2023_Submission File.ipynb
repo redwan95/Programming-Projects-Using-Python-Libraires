{
 "cells": [
  {
   "cell_type": "markdown",
   "id": "2dd33a37",
   "metadata": {},
   "source": [
    "# Infrastructure Replacement: Water Pipes\n",
    "\n",
    "### Scenario: Your company is responsible for assisting in the replacement of old water pipes that may contain lead throughout the city. Let us assume that in GIS you have already calculated the distance from the nearest water mainline to the centroid of each property parcel. This will give us an estimate of how much pipe we need to connect each house to the water mainline.\n",
    "\n",
    "A. We will first decide what street segment that the water pipe replacement crew will work on this week. In the cell below, ask the user for a street name (string) and block number (integer). For example, Fletcher Ave could be a street name, 800 could be the block (all houses numbered from 800-899 on Fletcher Ave).\n"
   ]
  },
  {
   "cell_type": "markdown",
   "id": "3f62e3f7",
   "metadata": {},
   "source": [
    "# No code was faked during this process, solved (A to K). "
   ]
  },
  {
   "cell_type": "code",
   "execution_count": 1,
   "id": "ec5744a6",
   "metadata": {},
   "outputs": [
    {
     "name": "stdout",
     "output_type": "stream",
     "text": [
      "Enter street name: S Kendall Ave\n",
      "Enter block number: 135\n"
     ]
    }
   ],
   "source": [
    "# gather input for street/block for pipe replacement \n",
    "street_name = input(\"Enter street name: \")\n",
    "block_number = int(input(\"Enter block number: \"))"
   ]
  },
  {
   "cell_type": "markdown",
   "id": "7d7998b0",
   "metadata": {},
   "source": [
    "B. Because we imagine that we already have calculated distances to each house on the street, make a list of 12 imagined values that are distance from the 12 houses on this street segment to water mainline varying from 5 to 33 meters. "
   ]
  },
  {
   "cell_type": "code",
   "execution_count": 2,
   "id": "bd894fb0",
   "metadata": {},
   "outputs": [
    {
     "name": "stdout",
     "output_type": "stream",
     "text": [
      "Distances to water mainline for houses on this street segment: [5, 10, 15, 20, 25, 30, 33, 28, 23, 18, 13, 8]\n"
     ]
    }
   ],
   "source": [
    "# demo list variable, 12 distances from house to watermain\n",
    "\n",
    "distances = [5, 10, 15, 20, 25, 30, 33, 28, 23, 18, 13, 8]\n",
    "\n",
    "print(\"Distances to water mainline for houses on this street segment: {}\".format(distances))"
   ]
  },
  {
   "cell_type": "markdown",
   "id": "79711ee9",
   "metadata": {},
   "source": [
    "C. Use a 'for' statement to calculate sum of distance list. Typically this would be done by making a base variable of value zero, then iterating through the list with 'for' and adding each value to the base value. Print the sum at the end. \n"
   ]
  },
  {
   "cell_type": "code",
   "execution_count": 3,
   "id": "ba32a040",
   "metadata": {},
   "outputs": [
    {
     "name": "stdout",
     "output_type": "stream",
     "text": [
      "The sum of the distances is: 228\n"
     ]
    }
   ],
   "source": [
    "# summing distance list \n",
    "\n",
    "sum = 0\n",
    "for distance in distances:\n",
    "    sum += distance\n",
    "print(\"The sum of the distances is:\", sum)"
   ]
  },
  {
   "cell_type": "markdown",
   "id": "c4351552",
   "metadata": {},
   "source": [
    "D. Now define a function that sums the distance list. Use 'def' and use the list as input. "
   ]
  },
  {
   "cell_type": "code",
   "execution_count": 4,
   "id": "c281aa18",
   "metadata": {},
   "outputs": [
    {
     "name": "stdout",
     "output_type": "stream",
     "text": [
      "The sum of the distances is: 228\n"
     ]
    }
   ],
   "source": [
    "# a function to sum distance \n",
    "def sum_distances(distances):\n",
    "    sum = 0\n",
    "    for distance in distances:\n",
    "        sum += distance\n",
    "    return sum\n",
    "\n",
    "total = sum_distances(distances)\n",
    "print(\"The sum of the distances is:\", total)"
   ]
  },
  {
   "cell_type": "markdown",
   "id": "bef01939",
   "metadata": {},
   "source": [
    "E. Let's get fancy. Let us now define a function that iterates through the list and specifies the number of 5m and 1m pipes necessary for each house.  Use any output you want as you work this function out. Make sure each step works before moving to the next step. The final output should be a list of lists that specifies distance, number of 5m pipes necessary, and number of 1m pipes necessary for each house. Each item in the list should look like this as an example: [13, 2, 3] Print your list of lists. "
   ]
  },
  {
   "cell_type": "code",
   "execution_count": 5,
   "id": "0be7f513",
   "metadata": {},
   "outputs": [],
   "source": [
    "# a fancier function, making a list of lists that specify pipes\n",
    "\n",
    "def calculate_pipes(distances):\n",
    "    pipes = []\n",
    "    for distance in distances:\n",
    "        num_5m_pipes = distance // 5\n",
    "        num_1m_pipes = distance % 5\n",
    "        pipes.append([distance, num_5m_pipes, num_1m_pipes])\n",
    "    return pipes"
   ]
  },
  {
   "cell_type": "code",
   "execution_count": 6,
   "id": "87db8519",
   "metadata": {},
   "outputs": [
    {
     "name": "stdout",
     "output_type": "stream",
     "text": [
      "The list of pipes: [[5, 1, 0], [10, 2, 0], [15, 3, 0], [20, 4, 0], [25, 5, 0], [30, 6, 0], [33, 6, 3], [28, 5, 3], [23, 4, 3], [18, 3, 3], [13, 2, 3], [8, 1, 3]]\n"
     ]
    }
   ],
   "source": [
    "pipes = calculate_pipes(distances)\n",
    "print(\"The list of pipes:\", pipes)"
   ]
  },
  {
   "cell_type": "markdown",
   "id": "6ee9e8dd",
   "metadata": {},
   "source": [
    "F. Let us add a step to the above function that adds a house number to each entry. In a real GIS database, we would have real house numbers. Instead, we will simply add 2 to the block number of the street, then add 5 for each imaginary house and concatenate the street name. This ensures we have both odd and even addresses, so that houses occur on both sides of the street. Print a new list of lists so that each of the 12 house entries looks something like this: [817 Fletcher Ave, 13, 2, 3]"
   ]
  },
  {
   "cell_type": "code",
   "execution_count": 7,
   "id": "47726090",
   "metadata": {},
   "outputs": [],
   "source": [
    "# and the above function with house numbers \n",
    "\n",
    "def calculate_pipes_with_house_number(distances, block_number, street_name):\n",
    "    pipes = []\n",
    "    for i in range(len(distances)):\n",
    "        distance = distances[i]\n",
    "        house_number = block_number + 5 * i + 2\n",
    "        house_address = str(house_number) + \" \" + street_name\n",
    "        num_5m_pipes = distance // 5\n",
    "        num_1m_pipes = distance % 5\n",
    "        pipes.append([house_address, distance, num_5m_pipes, num_1m_pipes])\n",
    "    return pipes"
   ]
  },
  {
   "cell_type": "code",
   "execution_count": 8,
   "id": "700f3040",
   "metadata": {},
   "outputs": [
    {
     "name": "stdout",
     "output_type": "stream",
     "text": [
      "The list of pipes with house numbers: [['137 S Kendall Ave', 5, 1, 0], ['142 S Kendall Ave', 10, 2, 0], ['147 S Kendall Ave', 15, 3, 0], ['152 S Kendall Ave', 20, 4, 0], ['157 S Kendall Ave', 25, 5, 0], ['162 S Kendall Ave', 30, 6, 0], ['167 S Kendall Ave', 33, 6, 3], ['172 S Kendall Ave', 28, 5, 3], ['177 S Kendall Ave', 23, 4, 3], ['182 S Kendall Ave', 18, 3, 3], ['187 S Kendall Ave', 13, 2, 3], ['192 S Kendall Ave', 8, 1, 3]]\n"
     ]
    }
   ],
   "source": [
    "pipes = calculate_pipes_with_house_number(distances, block_number, street_name)\n",
    "print(\"The list of pipes with house numbers:\", pipes)"
   ]
  },
  {
   "cell_type": "markdown",
   "id": "ba68bcd9",
   "metadata": {},
   "source": [
    "G. What we really to make this useful is a table. Let us turn the above lists of lists into a table using pandas. Remember to import pandas first. For help you can search create pandas dataframe from list of lists or using zipped lists. You will probably also want to assign column headings and row numbers to the table. Don't start your column headings with a number - pandas can't handle it later. "
   ]
  },
  {
   "cell_type": "code",
   "execution_count": 9,
   "id": "2248b6fa",
   "metadata": {},
   "outputs": [
    {
     "name": "stdout",
     "output_type": "stream",
     "text": [
      "                Street Name  Distance (m)  5m Pipes  1m Pipes\n",
      "House Number                                                 \n",
      "137           S Kendall Ave             5         1         0\n",
      "142           S Kendall Ave            10         2         0\n",
      "147           S Kendall Ave            15         3         0\n",
      "152           S Kendall Ave            20         4         0\n",
      "157           S Kendall Ave            25         5         0\n",
      "162           S Kendall Ave            30         6         0\n",
      "167           S Kendall Ave            33         6         3\n",
      "172           S Kendall Ave            28         5         3\n",
      "177           S Kendall Ave            23         4         3\n",
      "182           S Kendall Ave            18         3         3\n",
      "187           S Kendall Ave            13         2         3\n",
      "192           S Kendall Ave             8         1         3\n"
     ]
    }
   ],
   "source": [
    "import pandas as pd\n",
    "\n",
    "houses = [[137, 'S Kendall Ave', 5, 1, 0], [142, 'S Kendall Ave', 10, 2, 0], [147, 'S Kendall Ave', 15, 3, 0], [152, 'S Kendall Ave', 20, 4, 0], [157, 'S Kendall Ave', 25, 5, 0], [162, 'S Kendall Ave', 30, 6, 0], [167, 'S Kendall Ave', 33, 6, 3], [172, 'S Kendall Ave', 28, 5, 3], [177, 'S Kendall Ave', 23, 4, 3], [182, 'S Kendall Ave', 18, 3, 3], [187, 'S Kendall Ave', 13, 2, 3], [192, 'S Kendall Ave', 8, 1, 3]]\n",
    "\n",
    "columns = ['House Number', 'Street Name', 'Distance (m)', '5m Pipes', '1m Pipes']\n",
    "\n",
    "df = pd.DataFrame(houses, columns=columns)\n",
    "\n",
    "df = df.set_index('House Number')\n",
    "\n",
    "print(df)"
   ]
  },
  {
   "cell_type": "markdown",
   "id": "f38580d9",
   "metadata": {},
   "source": [
    "H. We should also make a map so that the construction crew knows where to start. Import the ArcGIS API (as in the MapIntro exercise). Create an address variable that takes one of the addresses (your choice) from the pandas dataframe and puts it into standard address form. US address structure is 'housenumber streetname streetsuffix, city, state, zipcode'. The zipcode for Fletcher Ave is 49006. Geocode the address."
   ]
  },
  {
   "cell_type": "code",
   "execution_count": 10,
   "id": "3132417e",
   "metadata": {},
   "outputs": [
    {
     "name": "stdout",
     "output_type": "stream",
     "text": [
      "The location of the address is:  {'x': -85.62633819426507, 'y': 42.291029888291746}\n"
     ]
    }
   ],
   "source": [
    "#Geocoding a location from the above data frame list for example: 137 S Kendall Ave, Kalamazoo, MI 49006\n",
    "\n",
    "from arcgis.gis import GIS\n",
    "from arcgis.geocoding import geocode\n",
    "\n",
    "gis = GIS(\"https://www.arcgis.com\", username=\"sbz1829_wmu\", password=\"S@njir92\")\n",
    "\n",
    "address = \"137 S Kendall Ave, Kalamazoo, MI 49006\"\n",
    "\n",
    "result = geocode(address, gis)\n",
    "location = result[0]['location']\n",
    "print(\"The location of the address is: \", location)"
   ]
  },
  {
   "cell_type": "markdown",
   "id": "ec3728e7",
   "metadata": {},
   "source": [
    "I. Make a map of the area either specifying location as the index value of the geocoding area output or reenter your full address form.  "
   ]
  },
  {
   "cell_type": "code",
   "execution_count": 16,
   "id": "638fa494",
   "metadata": {},
   "outputs": [
    {
     "data": {
      "application/vnd.jupyter.widget-view+json": {
       "model_id": "8c5c5a4d3d724b028b95c9217e699571",
       "version_major": 2,
       "version_minor": 0
      },
      "text/plain": [
       "MapView(layout=Layout(height='400px', width='100%'))"
      ]
     },
     "metadata": {},
     "output_type": "display_data"
    },
    {
     "data": {
      "text/html": [
       "<div class=\"map-static-img-preview-1523227d-e40f-404c-af18-8ccf77875d51\"><img src=\"\"></img></div>"
      ],
      "text/plain": [
       "<IPython.core.display.HTML object>"
      ]
     },
     "metadata": {},
     "output_type": "display_data"
    },
    {
     "data": {
      "text/html": [
       "<div class=\"map-html-embed-preview-1523227d-e40f-404c-af18-8ccf77875d51\"></div>"
      ],
      "text/plain": [
       "<IPython.core.display.HTML object>"
      ]
     },
     "metadata": {},
     "output_type": "display_data"
    }
   ],
   "source": [
    "# map of the street segment\n",
    "import geopy\n",
    "import arcgis\n",
    "from arcgis.gis import GIS\n",
    "gis = GIS()\n",
    "map = gis.map(\"South Kendall Ave, 49006\")\n",
    "\n",
    "map.center = [-85.62633851687862, 42.291052019581514]\n",
    "map"
   ]
  },
  {
   "cell_type": "markdown",
   "id": "68f1c50f",
   "metadata": {},
   "source": [
    "J. Now, let us use pandas for what it is good for. Let us sum each of the pipe columns for this block so that the maintenance crew knows how many 5 and 1m pipes to load on the truck to complete this block. "
   ]
  },
  {
   "cell_type": "code",
   "execution_count": 12,
   "id": "4dc43f80",
   "metadata": {},
   "outputs": [
    {
     "name": "stdout",
     "output_type": "stream",
     "text": [
      "The total number of 5m pipes needed is: 42\n",
      "The total number of 1m pipes needed is: 18\n"
     ]
    }
   ],
   "source": [
    "import pandas as pd\n",
    "\n",
    "# Sum the 5m pipes column\n",
    "sum_5m_pipes = df['5m Pipes'].sum()\n",
    "\n",
    "# Sum the 1m pipes column\n",
    "sum_1m_pipes = df['1m Pipes'].sum()\n",
    "\n",
    "# sum columns and create a print message to maintenance crew about pipe requirements.\n",
    "print(\"The total number of 5m pipes needed is:\", sum_5m_pipes)\n",
    "print(\"The total number of 1m pipes needed is:\", sum_1m_pipes)"
   ]
  },
  {
   "cell_type": "markdown",
   "id": "17a5ed97",
   "metadata": {},
   "source": [
    "K. Return to B above. Comment out the list that you created. Use random.randrange to create 12 random numbers within the given parameters and assign them to a list. This will mean that each time you restart and clear this page it will run with new numbers, as if we are actually pulling in distance results from the GIS layer. "
   ]
  },
  {
   "cell_type": "code",
   "execution_count": 18,
   "id": "dcf82479",
   "metadata": {},
   "outputs": [
    {
     "name": "stdout",
     "output_type": "stream",
     "text": [
      "[12, 28, 5, 17, 9, 6, 7, 9, 22, 10, 21, 19]\n"
     ]
    }
   ],
   "source": [
    "import random\n",
    "\n",
    "#defining variables within specific range for example 5-33\n",
    "#each time it will generate different random distances\n",
    "\n",
    "def generate_random_distances():\n",
    "    distances = []\n",
    "    for i in range(12):\n",
    "        distances.append(random.randrange(5, 33))\n",
    "    return distances\n",
    "\n",
    "# Original list\n",
    "# distances = [5, 10, 15, 20, 25, 30, 33, 28, 23, 18, 13, 8]\n",
    "\n",
    "distances = generate_random_distances()\n",
    "print(distances)"
   ]
  },
  {
   "cell_type": "markdown",
   "id": "a418dcf9",
   "metadata": {},
   "source": [
    "L. Last step. Can you figure out how to get the ArcGIS API to plot the addresses on the maps - and label them with appropriate pipes? Mmmm. That could be fun. Import Point, get the coordinates from the geocoding. You'll need a for loop to include all of the addresses. You can use the red star symbol from the map widget example. \n",
    "\n"
   ]
  },
  {
   "cell_type": "code",
   "execution_count": 14,
   "id": "5becc4af",
   "metadata": {},
   "outputs": [
    {
     "ename": "KeyError",
     "evalue": "0",
     "output_type": "error",
     "traceback": [
      "\u001b[1;31m---------------------------------------------------------------------------\u001b[0m",
      "\u001b[1;31mKeyError\u001b[0m                                  Traceback (most recent call last)",
      "\u001b[1;32mC:\\Program Files\\ArcGIS\\Pro\\bin\\Python\\envs\\arcgispro-py3\\lib\\site-packages\\pandas\\core\\indexes\\base.py\u001b[0m in \u001b[0;36mget_loc\u001b[1;34m(self, key, method, tolerance)\u001b[0m\n\u001b[0;32m   3360\u001b[0m             \u001b[1;32mtry\u001b[0m\u001b[1;33m:\u001b[0m\u001b[1;33m\u001b[0m\u001b[1;33m\u001b[0m\u001b[0m\n\u001b[1;32m-> 3361\u001b[1;33m                 \u001b[1;32mreturn\u001b[0m \u001b[0mself\u001b[0m\u001b[1;33m.\u001b[0m\u001b[0m_engine\u001b[0m\u001b[1;33m.\u001b[0m\u001b[0mget_loc\u001b[0m\u001b[1;33m(\u001b[0m\u001b[0mcasted_key\u001b[0m\u001b[1;33m)\u001b[0m\u001b[1;33m\u001b[0m\u001b[1;33m\u001b[0m\u001b[0m\n\u001b[0m\u001b[0;32m   3362\u001b[0m             \u001b[1;32mexcept\u001b[0m \u001b[0mKeyError\u001b[0m \u001b[1;32mas\u001b[0m \u001b[0merr\u001b[0m\u001b[1;33m:\u001b[0m\u001b[1;33m\u001b[0m\u001b[1;33m\u001b[0m\u001b[0m\n",
      "\u001b[1;32mC:\\Program Files\\ArcGIS\\Pro\\bin\\Python\\envs\\arcgispro-py3\\lib\\site-packages\\pandas\\_libs\\index.pyx\u001b[0m in \u001b[0;36mpandas._libs.index.IndexEngine.get_loc\u001b[1;34m()\u001b[0m\n",
      "\u001b[1;32mC:\\Program Files\\ArcGIS\\Pro\\bin\\Python\\envs\\arcgispro-py3\\lib\\site-packages\\pandas\\_libs\\index.pyx\u001b[0m in \u001b[0;36mpandas._libs.index.IndexEngine.get_loc\u001b[1;34m()\u001b[0m\n",
      "\u001b[1;32mpandas\\_libs\\hashtable_class_helper.pxi\u001b[0m in \u001b[0;36mpandas._libs.hashtable.Int64HashTable.get_item\u001b[1;34m()\u001b[0m\n",
      "\u001b[1;32mpandas\\_libs\\hashtable_class_helper.pxi\u001b[0m in \u001b[0;36mpandas._libs.hashtable.Int64HashTable.get_item\u001b[1;34m()\u001b[0m\n",
      "\u001b[1;31mKeyError\u001b[0m: 0",
      "\nThe above exception was the direct cause of the following exception:\n",
      "\u001b[1;31mKeyError\u001b[0m                                  Traceback (most recent call last)",
      "\u001b[1;32m<ipython-input-14-5fd1ff340499>\u001b[0m in \u001b[0;36m<module>\u001b[1;34m\u001b[0m\n\u001b[0;32m      7\u001b[0m \u001b[1;33m\u001b[0m\u001b[0m\n\u001b[0;32m      8\u001b[0m \u001b[1;32mfor\u001b[0m \u001b[0mi\u001b[0m \u001b[1;32min\u001b[0m \u001b[0mrange\u001b[0m\u001b[1;33m(\u001b[0m\u001b[0mlen\u001b[0m\u001b[1;33m(\u001b[0m\u001b[0mdf\u001b[0m\u001b[1;33m)\u001b[0m\u001b[1;33m)\u001b[0m\u001b[1;33m:\u001b[0m\u001b[1;33m\u001b[0m\u001b[1;33m\u001b[0m\u001b[0m\n\u001b[1;32m----> 9\u001b[1;33m     \u001b[0maddress\u001b[0m \u001b[1;33m=\u001b[0m \u001b[0mdf\u001b[0m\u001b[1;33m.\u001b[0m\u001b[0mloc\u001b[0m\u001b[1;33m[\u001b[0m\u001b[0mi\u001b[0m\u001b[1;33m,\u001b[0m \u001b[1;34m'Street Name'\u001b[0m\u001b[1;33m]\u001b[0m\u001b[1;33m\u001b[0m\u001b[1;33m\u001b[0m\u001b[0m\n\u001b[0m\u001b[0;32m     10\u001b[0m     \u001b[0mresult\u001b[0m \u001b[1;33m=\u001b[0m \u001b[0mgeocode\u001b[0m\u001b[1;33m(\u001b[0m\u001b[0maddress\u001b[0m\u001b[1;33m,\u001b[0m \u001b[0mas_featureset\u001b[0m\u001b[1;33m=\u001b[0m\u001b[1;32mTrue\u001b[0m\u001b[1;33m)\u001b[0m\u001b[1;33m\u001b[0m\u001b[1;33m\u001b[0m\u001b[0m\n\u001b[0;32m     11\u001b[0m     \u001b[0mpoint\u001b[0m \u001b[1;33m=\u001b[0m \u001b[0mresult\u001b[0m\u001b[1;33m.\u001b[0m\u001b[0mfeatures\u001b[0m\u001b[1;33m[\u001b[0m\u001b[1;36m0\u001b[0m\u001b[1;33m]\u001b[0m\u001b[1;33m.\u001b[0m\u001b[0mgeometry\u001b[0m\u001b[1;33m\u001b[0m\u001b[1;33m\u001b[0m\u001b[0m\n",
      "\u001b[1;32mC:\\Program Files\\ArcGIS\\Pro\\bin\\Python\\envs\\arcgispro-py3\\lib\\site-packages\\pandas\\core\\indexing.py\u001b[0m in \u001b[0;36m__getitem__\u001b[1;34m(self, key)\u001b[0m\n\u001b[0;32m    923\u001b[0m                 \u001b[1;32mwith\u001b[0m \u001b[0msuppress\u001b[0m\u001b[1;33m(\u001b[0m\u001b[0mKeyError\u001b[0m\u001b[1;33m,\u001b[0m \u001b[0mIndexError\u001b[0m\u001b[1;33m)\u001b[0m\u001b[1;33m:\u001b[0m\u001b[1;33m\u001b[0m\u001b[1;33m\u001b[0m\u001b[0m\n\u001b[0;32m    924\u001b[0m                     \u001b[1;32mreturn\u001b[0m \u001b[0mself\u001b[0m\u001b[1;33m.\u001b[0m\u001b[0mobj\u001b[0m\u001b[1;33m.\u001b[0m\u001b[0m_get_value\u001b[0m\u001b[1;33m(\u001b[0m\u001b[1;33m*\u001b[0m\u001b[0mkey\u001b[0m\u001b[1;33m,\u001b[0m \u001b[0mtakeable\u001b[0m\u001b[1;33m=\u001b[0m\u001b[0mself\u001b[0m\u001b[1;33m.\u001b[0m\u001b[0m_takeable\u001b[0m\u001b[1;33m)\u001b[0m\u001b[1;33m\u001b[0m\u001b[1;33m\u001b[0m\u001b[0m\n\u001b[1;32m--> 925\u001b[1;33m             \u001b[1;32mreturn\u001b[0m \u001b[0mself\u001b[0m\u001b[1;33m.\u001b[0m\u001b[0m_getitem_tuple\u001b[0m\u001b[1;33m(\u001b[0m\u001b[0mkey\u001b[0m\u001b[1;33m)\u001b[0m\u001b[1;33m\u001b[0m\u001b[1;33m\u001b[0m\u001b[0m\n\u001b[0m\u001b[0;32m    926\u001b[0m         \u001b[1;32melse\u001b[0m\u001b[1;33m:\u001b[0m\u001b[1;33m\u001b[0m\u001b[1;33m\u001b[0m\u001b[0m\n\u001b[0;32m    927\u001b[0m             \u001b[1;31m# we by definition only have the 0th axis\u001b[0m\u001b[1;33m\u001b[0m\u001b[1;33m\u001b[0m\u001b[0m\n",
      "\u001b[1;32mC:\\Program Files\\ArcGIS\\Pro\\bin\\Python\\envs\\arcgispro-py3\\lib\\site-packages\\pandas\\core\\indexing.py\u001b[0m in \u001b[0;36m_getitem_tuple\u001b[1;34m(self, tup)\u001b[0m\n\u001b[0;32m   1098\u001b[0m     \u001b[1;32mdef\u001b[0m \u001b[0m_getitem_tuple\u001b[0m\u001b[1;33m(\u001b[0m\u001b[0mself\u001b[0m\u001b[1;33m,\u001b[0m \u001b[0mtup\u001b[0m\u001b[1;33m:\u001b[0m \u001b[0mtuple\u001b[0m\u001b[1;33m)\u001b[0m\u001b[1;33m:\u001b[0m\u001b[1;33m\u001b[0m\u001b[1;33m\u001b[0m\u001b[0m\n\u001b[0;32m   1099\u001b[0m         \u001b[1;32mwith\u001b[0m \u001b[0msuppress\u001b[0m\u001b[1;33m(\u001b[0m\u001b[0mIndexingError\u001b[0m\u001b[1;33m)\u001b[0m\u001b[1;33m:\u001b[0m\u001b[1;33m\u001b[0m\u001b[1;33m\u001b[0m\u001b[0m\n\u001b[1;32m-> 1100\u001b[1;33m             \u001b[1;32mreturn\u001b[0m \u001b[0mself\u001b[0m\u001b[1;33m.\u001b[0m\u001b[0m_getitem_lowerdim\u001b[0m\u001b[1;33m(\u001b[0m\u001b[0mtup\u001b[0m\u001b[1;33m)\u001b[0m\u001b[1;33m\u001b[0m\u001b[1;33m\u001b[0m\u001b[0m\n\u001b[0m\u001b[0;32m   1101\u001b[0m \u001b[1;33m\u001b[0m\u001b[0m\n\u001b[0;32m   1102\u001b[0m         \u001b[1;31m# no multi-index, so validate all of the indexers\u001b[0m\u001b[1;33m\u001b[0m\u001b[1;33m\u001b[0m\u001b[0m\n",
      "\u001b[1;32mC:\\Program Files\\ArcGIS\\Pro\\bin\\Python\\envs\\arcgispro-py3\\lib\\site-packages\\pandas\\core\\indexing.py\u001b[0m in \u001b[0;36m_getitem_lowerdim\u001b[1;34m(self, tup)\u001b[0m\n\u001b[0;32m    836\u001b[0m                 \u001b[1;31m# We don't need to check for tuples here because those are\u001b[0m\u001b[1;33m\u001b[0m\u001b[1;33m\u001b[0m\u001b[0m\n\u001b[0;32m    837\u001b[0m                 \u001b[1;31m#  caught by the _is_nested_tuple_indexer check above.\u001b[0m\u001b[1;33m\u001b[0m\u001b[1;33m\u001b[0m\u001b[0m\n\u001b[1;32m--> 838\u001b[1;33m                 \u001b[0msection\u001b[0m \u001b[1;33m=\u001b[0m \u001b[0mself\u001b[0m\u001b[1;33m.\u001b[0m\u001b[0m_getitem_axis\u001b[0m\u001b[1;33m(\u001b[0m\u001b[0mkey\u001b[0m\u001b[1;33m,\u001b[0m \u001b[0maxis\u001b[0m\u001b[1;33m=\u001b[0m\u001b[0mi\u001b[0m\u001b[1;33m)\u001b[0m\u001b[1;33m\u001b[0m\u001b[1;33m\u001b[0m\u001b[0m\n\u001b[0m\u001b[0;32m    839\u001b[0m \u001b[1;33m\u001b[0m\u001b[0m\n\u001b[0;32m    840\u001b[0m                 \u001b[1;31m# We should never have a scalar section here, because\u001b[0m\u001b[1;33m\u001b[0m\u001b[1;33m\u001b[0m\u001b[0m\n",
      "\u001b[1;32mC:\\Program Files\\ArcGIS\\Pro\\bin\\Python\\envs\\arcgispro-py3\\lib\\site-packages\\pandas\\core\\indexing.py\u001b[0m in \u001b[0;36m_getitem_axis\u001b[1;34m(self, key, axis)\u001b[0m\n\u001b[0;32m   1162\u001b[0m         \u001b[1;31m# fall thru to straight lookup\u001b[0m\u001b[1;33m\u001b[0m\u001b[1;33m\u001b[0m\u001b[0m\n\u001b[0;32m   1163\u001b[0m         \u001b[0mself\u001b[0m\u001b[1;33m.\u001b[0m\u001b[0m_validate_key\u001b[0m\u001b[1;33m(\u001b[0m\u001b[0mkey\u001b[0m\u001b[1;33m,\u001b[0m \u001b[0maxis\u001b[0m\u001b[1;33m)\u001b[0m\u001b[1;33m\u001b[0m\u001b[1;33m\u001b[0m\u001b[0m\n\u001b[1;32m-> 1164\u001b[1;33m         \u001b[1;32mreturn\u001b[0m \u001b[0mself\u001b[0m\u001b[1;33m.\u001b[0m\u001b[0m_get_label\u001b[0m\u001b[1;33m(\u001b[0m\u001b[0mkey\u001b[0m\u001b[1;33m,\u001b[0m \u001b[0maxis\u001b[0m\u001b[1;33m=\u001b[0m\u001b[0maxis\u001b[0m\u001b[1;33m)\u001b[0m\u001b[1;33m\u001b[0m\u001b[1;33m\u001b[0m\u001b[0m\n\u001b[0m\u001b[0;32m   1165\u001b[0m \u001b[1;33m\u001b[0m\u001b[0m\n\u001b[0;32m   1166\u001b[0m     \u001b[1;32mdef\u001b[0m \u001b[0m_get_slice_axis\u001b[0m\u001b[1;33m(\u001b[0m\u001b[0mself\u001b[0m\u001b[1;33m,\u001b[0m \u001b[0mslice_obj\u001b[0m\u001b[1;33m:\u001b[0m \u001b[0mslice\u001b[0m\u001b[1;33m,\u001b[0m \u001b[0maxis\u001b[0m\u001b[1;33m:\u001b[0m \u001b[0mint\u001b[0m\u001b[1;33m)\u001b[0m\u001b[1;33m:\u001b[0m\u001b[1;33m\u001b[0m\u001b[1;33m\u001b[0m\u001b[0m\n",
      "\u001b[1;32mC:\\Program Files\\ArcGIS\\Pro\\bin\\Python\\envs\\arcgispro-py3\\lib\\site-packages\\pandas\\core\\indexing.py\u001b[0m in \u001b[0;36m_get_label\u001b[1;34m(self, label, axis)\u001b[0m\n\u001b[0;32m   1111\u001b[0m     \u001b[1;32mdef\u001b[0m \u001b[0m_get_label\u001b[0m\u001b[1;33m(\u001b[0m\u001b[0mself\u001b[0m\u001b[1;33m,\u001b[0m \u001b[0mlabel\u001b[0m\u001b[1;33m,\u001b[0m \u001b[0maxis\u001b[0m\u001b[1;33m:\u001b[0m \u001b[0mint\u001b[0m\u001b[1;33m)\u001b[0m\u001b[1;33m:\u001b[0m\u001b[1;33m\u001b[0m\u001b[1;33m\u001b[0m\u001b[0m\n\u001b[0;32m   1112\u001b[0m         \u001b[1;31m# GH#5667 this will fail if the label is not present in the axis.\u001b[0m\u001b[1;33m\u001b[0m\u001b[1;33m\u001b[0m\u001b[0m\n\u001b[1;32m-> 1113\u001b[1;33m         \u001b[1;32mreturn\u001b[0m \u001b[0mself\u001b[0m\u001b[1;33m.\u001b[0m\u001b[0mobj\u001b[0m\u001b[1;33m.\u001b[0m\u001b[0mxs\u001b[0m\u001b[1;33m(\u001b[0m\u001b[0mlabel\u001b[0m\u001b[1;33m,\u001b[0m \u001b[0maxis\u001b[0m\u001b[1;33m=\u001b[0m\u001b[0maxis\u001b[0m\u001b[1;33m)\u001b[0m\u001b[1;33m\u001b[0m\u001b[1;33m\u001b[0m\u001b[0m\n\u001b[0m\u001b[0;32m   1114\u001b[0m \u001b[1;33m\u001b[0m\u001b[0m\n\u001b[0;32m   1115\u001b[0m     \u001b[1;32mdef\u001b[0m \u001b[0m_handle_lowerdim_multi_index_axis0\u001b[0m\u001b[1;33m(\u001b[0m\u001b[0mself\u001b[0m\u001b[1;33m,\u001b[0m \u001b[0mtup\u001b[0m\u001b[1;33m:\u001b[0m \u001b[0mtuple\u001b[0m\u001b[1;33m)\u001b[0m\u001b[1;33m:\u001b[0m\u001b[1;33m\u001b[0m\u001b[1;33m\u001b[0m\u001b[0m\n",
      "\u001b[1;32mC:\\Program Files\\ArcGIS\\Pro\\bin\\Python\\envs\\arcgispro-py3\\lib\\site-packages\\pandas\\core\\generic.py\u001b[0m in \u001b[0;36mxs\u001b[1;34m(self, key, axis, level, drop_level)\u001b[0m\n\u001b[0;32m   3774\u001b[0m                 \u001b[1;32mraise\u001b[0m \u001b[0mTypeError\u001b[0m\u001b[1;33m(\u001b[0m\u001b[1;34mf\"Expected label or tuple of labels, got {key}\"\u001b[0m\u001b[1;33m)\u001b[0m \u001b[1;32mfrom\u001b[0m \u001b[0me\u001b[0m\u001b[1;33m\u001b[0m\u001b[1;33m\u001b[0m\u001b[0m\n\u001b[0;32m   3775\u001b[0m         \u001b[1;32melse\u001b[0m\u001b[1;33m:\u001b[0m\u001b[1;33m\u001b[0m\u001b[1;33m\u001b[0m\u001b[0m\n\u001b[1;32m-> 3776\u001b[1;33m             \u001b[0mloc\u001b[0m \u001b[1;33m=\u001b[0m \u001b[0mindex\u001b[0m\u001b[1;33m.\u001b[0m\u001b[0mget_loc\u001b[0m\u001b[1;33m(\u001b[0m\u001b[0mkey\u001b[0m\u001b[1;33m)\u001b[0m\u001b[1;33m\u001b[0m\u001b[1;33m\u001b[0m\u001b[0m\n\u001b[0m\u001b[0;32m   3777\u001b[0m \u001b[1;33m\u001b[0m\u001b[0m\n\u001b[0;32m   3778\u001b[0m             \u001b[1;32mif\u001b[0m \u001b[0misinstance\u001b[0m\u001b[1;33m(\u001b[0m\u001b[0mloc\u001b[0m\u001b[1;33m,\u001b[0m \u001b[0mnp\u001b[0m\u001b[1;33m.\u001b[0m\u001b[0mndarray\u001b[0m\u001b[1;33m)\u001b[0m\u001b[1;33m:\u001b[0m\u001b[1;33m\u001b[0m\u001b[1;33m\u001b[0m\u001b[0m\n",
      "\u001b[1;32mC:\\Program Files\\ArcGIS\\Pro\\bin\\Python\\envs\\arcgispro-py3\\lib\\site-packages\\pandas\\core\\indexes\\base.py\u001b[0m in \u001b[0;36mget_loc\u001b[1;34m(self, key, method, tolerance)\u001b[0m\n\u001b[0;32m   3361\u001b[0m                 \u001b[1;32mreturn\u001b[0m \u001b[0mself\u001b[0m\u001b[1;33m.\u001b[0m\u001b[0m_engine\u001b[0m\u001b[1;33m.\u001b[0m\u001b[0mget_loc\u001b[0m\u001b[1;33m(\u001b[0m\u001b[0mcasted_key\u001b[0m\u001b[1;33m)\u001b[0m\u001b[1;33m\u001b[0m\u001b[1;33m\u001b[0m\u001b[0m\n\u001b[0;32m   3362\u001b[0m             \u001b[1;32mexcept\u001b[0m \u001b[0mKeyError\u001b[0m \u001b[1;32mas\u001b[0m \u001b[0merr\u001b[0m\u001b[1;33m:\u001b[0m\u001b[1;33m\u001b[0m\u001b[1;33m\u001b[0m\u001b[0m\n\u001b[1;32m-> 3363\u001b[1;33m                 \u001b[1;32mraise\u001b[0m \u001b[0mKeyError\u001b[0m\u001b[1;33m(\u001b[0m\u001b[0mkey\u001b[0m\u001b[1;33m)\u001b[0m \u001b[1;32mfrom\u001b[0m \u001b[0merr\u001b[0m\u001b[1;33m\u001b[0m\u001b[1;33m\u001b[0m\u001b[0m\n\u001b[0m\u001b[0;32m   3364\u001b[0m \u001b[1;33m\u001b[0m\u001b[0m\n\u001b[0;32m   3365\u001b[0m         \u001b[1;32mif\u001b[0m \u001b[0mis_scalar\u001b[0m\u001b[1;33m(\u001b[0m\u001b[0mkey\u001b[0m\u001b[1;33m)\u001b[0m \u001b[1;32mand\u001b[0m \u001b[0misna\u001b[0m\u001b[1;33m(\u001b[0m\u001b[0mkey\u001b[0m\u001b[1;33m)\u001b[0m \u001b[1;32mand\u001b[0m \u001b[1;32mnot\u001b[0m \u001b[0mself\u001b[0m\u001b[1;33m.\u001b[0m\u001b[0mhasnans\u001b[0m\u001b[1;33m:\u001b[0m\u001b[1;33m\u001b[0m\u001b[1;33m\u001b[0m\u001b[0m\n",
      "\u001b[1;31mKeyError\u001b[0m: 0"
     ]
    }
   ],
   "source": [
    "from arcgis.gis import GIS\n",
    "from arcgis.geocoding import geocode\n",
    "from arcgis.geometry import Point\n",
    "\n",
    "gis = GIS()\n",
    "map = gis.map(\"133 S Kendall Ave kalamazoo MI 49006\")\n",
    "\n",
    "for i in range(len(df)):\n",
    "    address = df.loc[i, 'Street Name']\n",
    "    result = geocode(address, as_featureset=True)\n",
    "    point = result.features[0].geometry\n",
    "    map.draw(point, symbol='red_star', attributes={'5m Pipes': df.loc[i, '5m Pipes'], '1m Pipes': df.loc[i, '1m Pipes']})\n",
    "\n",
    "map.legend = True\n",
    "map.zoom = 12\n",
    "map\n",
    "\n",
    "##Could not figure out. \n"
   ]
  },
  {
   "cell_type": "markdown",
   "id": "304d77be",
   "metadata": {},
   "source": [
    "M. Try your this code with another known address block in Kalamazoo. Does everything work? Even the map? What would you have to change to run this code correctly on any known address block in the country? Make those changes.  Run it for 912 S Cannon Blvd, Kannapolis, NC 28083 (pr any other address). Does it work? "
   ]
  },
  {
   "cell_type": "markdown",
   "id": "e2fe49d1",
   "metadata": {},
   "source": [
    "# Wasn't sure what code to run here. Did not get concept of the question. Should I run the above code again? or should I try the code with the given address above? This code will run with any given address within USA"
   ]
  },
  {
   "cell_type": "code",
   "execution_count": null,
   "id": "16bac123",
   "metadata": {},
   "outputs": [],
   "source": []
  }
 ],
 "metadata": {
  "kernelspec": {
   "display_name": "Python 3",
   "language": "python",
   "name": "python3"
  },
  "language_info": {
   "codemirror_mode": {
    "name": "ipython",
    "version": 3
   },
   "file_extension": ".py",
   "mimetype": "text/x-python",
   "name": "python",
   "nbconvert_exporter": "python",
   "pygments_lexer": "ipython3",
   "version": "3.9.11"
  }
 },
 "nbformat": 4,
 "nbformat_minor": 5
}
